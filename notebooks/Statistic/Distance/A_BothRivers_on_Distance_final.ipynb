{
 "cells": [
  {
   "cell_type": "code",
   "execution_count": 8,
   "id": "2498565e-c9b5-4d64-a016-fabe6afac577",
   "metadata": {},
   "outputs": [
    {
     "name": "stderr",
     "output_type": "stream",
     "text": [
      "Warning message:\n",
      "\"\u001b[1m\u001b[22mRemoved 25 rows containing non-finite outside the scale range (`stat_boxplot()`).\"\n",
      "Warning message:\n",
      "\"\u001b[1m\u001b[22mRemoved 25 rows containing missing values or values outside the scale range (`geom_point()`).\"\n",
      "Warning message:\n",
      "\"\u001b[1m\u001b[22mRemoved 25 rows containing non-finite outside the scale range (`stat_boxplot()`).\"\n",
      "Warning message:\n",
      "\"\u001b[1m\u001b[22mRemoved 25 rows containing missing values or values outside the scale range (`geom_point()`).\"\n"
     ]
    },
    {
     "data": {
      "image/png": "[encoded data removed]",
      "text/plain": [
       "plot without title"
      ]
     },
     "metadata": {
      "image/png": {
       "height": 420,
       "width": 420
      }
     },
     "output_type": "display_data"
    }
   ],
   "source": [
    "library(ggplot2)\n",
    "library(dplyr)\n",
    "library(tidyr)\n",
    "library(readxl)\n",
    "\n",
    "# Daten einlesen\n",
    "df <- read_excel(\"C:/Users/sophia/Dropbox/MASTER/Master_Data_Table/FINAL/MASTER_DATA_short_Grouping.xlsx\", \n",
    "                 sheet = \"FINAL_final_final\")\n",
    "\n",
    "# ----------------------------\n",
    "facet_titles <- c(\n",
    "  \"average_DOC_sample\" = \"DOC\",\n",
    "  \"BDOC_pct\" = \"BDOC\",\n",
    "  \"CO2_Flux\" = \"CO2 flux\"\n",
    ")\n",
    "\n",
    "y_labels <- c(\n",
    "  \"DOC\" = \"DOC~concentration~(mg~L^{-1})\",\n",
    "  \"BDOC\" = \"BDOC~concentration~(mg~L^{-1})\",\n",
    "  \"CO2 flux\" = \"CO[2]~flux~(mg~C~m^{-2}~d^{-1})\"\n",
    ")\n",
    "\n",
    "# ✅ HIER Farben ändern\n",
    "river_colors <- c(\"Virkisa\" = \"#009E73\",           # grün\n",
    "                  \"Vestari_Joekulsa\" = \"#D55E00\") # rot\n",
    "# ----------------------------\n",
    "\n",
    "prepare_long_df <- function(data) {\n",
    "  data %>%\n",
    "    pivot_longer(cols = c(average_DOC_sample, CO2_Flux, BDOC_pct),\n",
    "                 names_to = \"Parameter\", values_to = \"Value\") %>%\n",
    "    mutate(\n",
    "      Value = ifelse(Parameter == \"BDOC_pct\", Value / 100, Value),\n",
    "      Parameter = facet_titles[Parameter]\n",
    "    )\n",
    "}\n",
    "\n",
    "df_long <- prepare_long_df(df)\n",
    "\n",
    "df_vestari_raw <- df_long %>%\n",
    "  filter(river_name == \"Vestari_Joekulsa\", site_nr <= 4)\n",
    "\n",
    "df_virkisa_raw <- df_long %>%\n",
    "  filter(river_name == \"Virkisa\", site_nr != 8)\n",
    "\n",
    "df_combined <- bind_rows(df_vestari_raw, df_virkisa_raw) %>%\n",
    "  mutate(\n",
    "    Parameter_facet = factor(Parameter, levels = c(\"DOC\", \"BDOC\", \"CO2 flux\"))\n",
    "  )\n",
    "\n",
    "df_combined$river_name <- factor(df_combined$river_name,\n",
    "                                 levels = c(\"Virkisa\", \"Vestari_Joekulsa\"))\n",
    "\n",
    "df_vestari <- df_combined %>% filter(river_name == \"Vestari_Joekulsa\")\n",
    "df_virkisa <- df_combined %>% filter(river_name == \"Virkisa\")\n",
    "\n",
    "plot <- ggplot() +\n",
    "  geom_line(data = df_vestari,\n",
    "            aes(x = distance_from_glacier, y = Value,\n",
    "                group = interaction(site_nr, Parameter),\n",
    "                color = river_name),\n",
    "            alpha = 0.5) +\n",
    "  geom_point(data = df_vestari,\n",
    "             aes(x = distance_from_glacier, y = Value, color = river_name),\n",
    "             size = 3) +\n",
    "  geom_boxplot(data = df_virkisa,\n",
    "               aes(x = distance_from_glacier, y = Value,\n",
    "                   group = site_nr, fill = river_name),\n",
    "               alpha = 0.6, width = 30, outlier.shape = NA) +\n",
    "  geom_jitter(data = df_virkisa,\n",
    "              aes(x = distance_from_glacier, y = Value, color = river_name),\n",
    "              width = 10, alpha = 0.4, size = 1.5) +\n",
    "  facet_wrap(~Parameter_facet, scales = \"free_y\", ncol = 1,\n",
    "             labeller = as_labeller(y_labels, label_parsed)) +\n",
    "  scale_color_manual(values = river_colors, name = \"River\") +\n",
    "  scale_fill_manual(values = river_colors, name = \"River\") +\n",
    "  labs(\n",
    "    title = \"Comparison of carbon parameters along glacier distance\",\n",
    "    x = \"Distance from glacier (m)\", y = NULL\n",
    "  ) +\n",
    "  theme_minimal(base_size = 14) +\n",
    "  theme(\n",
    "    strip.text = element_text(face = \"bold\", size = 13),\n",
    "    plot.title = element_text(hjust = 0.5, face = \"bold\", lineheight = 1.2),\n",
    "    legend.position = \"top\",\n",
    "    legend.title = element_text(face = \"bold\"),\n",
    "    legend.text = element_text(size = 12),\n",
    "    legend.key.width = unit(0.8, \"cm\"),\n",
    "    legend.spacing.x = unit(0.5, \"cm\")\n",
    "  )\n",
    "\n",
    "# 👉 In Jupyter anzeigen\n",
    "print(plot)\n",
    "\n",
    "# 👉 Speichern\n",
    "ggsave(\"C:/Users/sophia/Dropbox/MASTER/Master_Data_Table/FINAL/Ergebnisse_Grouping_fluesse/Plot_Combined_Virkisa_Vestari.png\",\n",
    "       plot = plot, width = 15, height = 22, units = \"cm\", dpi = 300)\n"
   ]
  },
  {
   "cell_type": "code",
   "execution_count": null,
   "id": "eb9b7a1c-de1d-499f-81fb-ea3e2dc80bde",
   "metadata": {},
   "outputs": [],
   "source": []
  }
 ],
 "metadata": {
  "kernelspec": {
   "display_name": "R",
   "language": "R",
   "name": "ir"
  },
  "language_info": {
   "codemirror_mode": "r",
   "file_extension": ".r",
   "mimetype": "text/x-r-source",
   "name": "R",
   "pygments_lexer": "r",
   "version": "4.3.3"
  }
 },
 "nbformat": 4,
 "nbformat_minor": 5
}
