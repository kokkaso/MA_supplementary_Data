{
 "cells": [
  {
   "cell_type": "markdown",
   "id": "f9e30741-7af8-45fc-9c52-d57d0453b5d6",
   "metadata": {
    "jp-MarkdownHeadingCollapsed": true
   },
   "source": [
    "# DOC VESTARI FINAL "
   ]
  },
  {
   "cell_type": "code",
   "execution_count": 2,
   "id": "db5fff8c-7fcd-489e-936e-fd178220dc14",
   "metadata": {},
   "outputs": [
    {
     "name": "stderr",
     "output_type": "stream",
     "text": [
      "Warning message:\n",
      "\"\u001b[1m\u001b[22mRemoved 1 row containing missing values or values outside the scale range (`geom_line()`).\"\n",
      "Warning message:\n",
      "\"\u001b[1m\u001b[22mRemoved 1 row containing missing values or values outside the scale range (`geom_point()`).\"\n",
      "Warning message:\n",
      "\"\u001b[1m\u001b[22mRemoved 1 row containing missing values or values outside the scale range (`geom_text()`).\"\n",
      "Warning message:\n",
      "\"\u001b[1m\u001b[22mRemoved 1 row containing missing values or values outside the scale range (`geom_line()`).\"\n",
      "Warning message:\n",
      "\"\u001b[1m\u001b[22mRemoved 1 row containing missing values or values outside the scale range (`geom_point()`).\"\n",
      "Warning message:\n",
      "\"\u001b[1m\u001b[22mRemoved 1 row containing missing values or values outside the scale range (`geom_text()`).\"\n"
     ]
    },
    {
     "data": {
      "image/png": "[encoded data removed]",
      "text/plain": [
       "plot without title"
      ]
     },
     "metadata": {
      "image/png": {
       "height": 240,
       "width": 420
      }
     },
     "output_type": "display_data"
    }
   ],
   "source": [
    "# Pakete\n",
    "library(readxl)\n",
    "library(dplyr)\n",
    "library(ggplot2)\n",
    "\n",
    "# Plot-Größe für JupyterLab (optional)\n",
    "options(repr.plot.width = 7, repr.plot.height = 4)\n",
    "\n",
    "# Farben und Formen – Rot-Töne\n",
    "measurement_colors <- c(\"morning\" = \"#d73027\", \"afternoon\" = \"#fdae61\")\n",
    "measurement_shapes <- c(\"morning\" = 17, \"afternoon\" = 16)\n",
    "\n",
    "# Daten einlesen\n",
    "df <- read_excel(\"C:/Users/sophia/Dropbox/MASTER/Master_Data_Table/FINAL/MASTER_DATA_short_Grouping.xlsx\",\n",
    "                 sheet = \"FINAL_final_final\")\n",
    "\n",
    "# Filter: Vestari, group 1, nur DOC\n",
    "df_doc_vestari <- df %>%\n",
    "  filter(river_name == \"Vestari_Joekulsa\", group_nr == 1) %>%\n",
    "  mutate(\n",
    "    label_type = ifelse(grepl(\"VM\", DOC_label), \"morning\", \"afternoon\")\n",
    "  ) %>%\n",
    "  select(distance_from_glacier, average_DOC_sample, label_type, site_nr)\n",
    "\n",
    "df_doc_vestari$label_type <- factor(df_doc_vestari$label_type, levels = c(\"morning\", \"afternoon\"))\n",
    "\n",
    "# Plot erstellen\n",
    "p_vestari <- ggplot(df_doc_vestari, aes(x = distance_from_glacier, y = average_DOC_sample, color = label_type)) +\n",
    "  geom_line(data = df_doc_vestari %>% filter(label_type == \"morning\"),\n",
    "            aes(group = label_type), linewidth = 0.7) +\n",
    "  geom_line(data = df_doc_vestari %>% filter(label_type == \"afternoon\"),\n",
    "            aes(group = label_type), linewidth = 0.7) +\n",
    "  geom_point(aes(shape = label_type), size = 3) +\n",
    "  geom_text(aes(label = site_nr), vjust = -1, size = 3, color = \"black\") +\n",
    "  scale_shape_manual(values = measurement_shapes) +\n",
    "  scale_color_manual(values = measurement_colors) +\n",
    "  scale_x_continuous(expand = expansion(mult = c(0.05, 0.05))) +\n",
    "  scale_y_continuous(limits = c(0, 0.25)) +  # Y-Achse fix\n",
    "  labs(\n",
    "    title = \"DOC Concentration along Vestari-Jökulsá\",\n",
    "    x = \"Distance from Glacier (m)\",\n",
    "    y = expression(\"DOC (mg L\"^-1*\")\"),\n",
    "    color = \"Time of Measurement\",\n",
    "    shape = \"Time of Measurement\"\n",
    "  ) +\n",
    "  coord_cartesian(clip = \"off\") +\n",
    "  theme_minimal(base_size = 12) +\n",
    "  theme(\n",
    "    legend.position = \"top\",\n",
    "    legend.direction = \"horizontal\",\n",
    "    legend.title = element_text(size = 12),\n",
    "    legend.text = element_text(size = 11),\n",
    "    legend.box = \"horizontal\",\n",
    "    plot.margin = margin(t = 10, r = 25, b = 10, l = 10),\n",
    "    plot.title = element_text(size = 14, hjust = 0.5),\n",
    "    axis.text = element_text(size = 11),\n",
    "    axis.title = element_text(size = 13)\n",
    "  )\n",
    "\n",
    "print(p_vestari)\n",
    "\n",
    "ggsave(\"C:/Users/sophia/Dropbox/MASTER/Master_Data_Table/FINAL/Ergebnisse_distance/DOC_Vestari_breit.png\",\n",
    "       plot = p_vestari, width = 6.5, height = 4, dpi = 300)  # Breite ca. 16.5 cm (DIN A4)\n"
   ]
  },
  {
   "cell_type": "markdown",
   "id": "e4405361-39f5-4f72-9f04-9fb3457b9b40",
   "metadata": {
    "jp-MarkdownHeadingCollapsed": true
   },
   "source": [
    "# DOC VIRKISA FINAL "
   ]
  },
  {
   "cell_type": "code",
   "execution_count": 3,
   "id": "9e882b59-7915-462c-aa69-3e6293f67226",
   "metadata": {},
   "outputs": [
    {
     "data": {
      "image/png": "[encoded data removed]",
      "text/plain": [
       "plot without title"
      ]
     },
     "metadata": {
      "image/png": {
       "height": 240,
       "width": 420
      }
     },
     "output_type": "display_data"
    }
   ],
   "source": [
    "# Pakete\n",
    "library(readxl)\n",
    "library(dplyr)\n",
    "library(ggplot2)\n",
    "\n",
    "# Plot-Größe für JupyterLab (optional)\n",
    "options(repr.plot.width = 7, repr.plot.height = 4)\n",
    "\n",
    "# Farben und Formen – Grüntöne\n",
    "measurement_colors <- c(\"morning\" = \"#1b7837\", \"afternoon\" = \"#a6dba0\")\n",
    "measurement_shapes <- c(\"morning\" = 17, \"afternoon\" = 16)\n",
    "\n",
    "# Daten einlesen\n",
    "df <- read_excel(\"C:/Users/sophia/Dropbox/MASTER/Master_Data_Table/FINAL/MASTER_DATA_short_Grouping.xlsx\",\n",
    "                 sheet = \"FINAL_final_final\")\n",
    "\n",
    "# Filter: Virkisá, group 1, nur DOC\n",
    "df_doc_virkisa <- df %>%\n",
    "  filter(river_name == \"Virkisa\", group_nr == 1) %>%\n",
    "  mutate(\n",
    "    label_type = ifelse(grepl(\"VM\", DOC_label), \"morning\", \"afternoon\")\n",
    "  ) %>%\n",
    "  select(distance_from_glacier, average_DOC_sample, label_type, site_nr)\n",
    "\n",
    "df_doc_virkisa$label_type <- factor(df_doc_virkisa$label_type, levels = c(\"morning\", \"afternoon\"))\n",
    "\n",
    "# Plot erstellen\n",
    "p_virkisa <- ggplot(df_doc_virkisa, aes(x = distance_from_glacier, y = average_DOC_sample, color = label_type)) +\n",
    "  geom_line(data = df_doc_virkisa %>% filter(label_type == \"morning\"),\n",
    "            aes(group = label_type), linewidth = 0.7) +\n",
    "  geom_line(data = df_doc_virkisa %>% filter(label_type == \"afternoon\"),\n",
    "            aes(group = label_type), linewidth = 0.7) +\n",
    "  geom_point(aes(shape = label_type), size = 3) +\n",
    "  geom_text(aes(label = site_nr), vjust = -1, size = 3, color = \"black\") +\n",
    "  scale_shape_manual(values = measurement_shapes) +\n",
    "  scale_color_manual(values = measurement_colors) +\n",
    "  scale_x_continuous(expand = expansion(mult = c(0.05, 0.05))) +\n",
    "  scale_y_continuous(limits = c(0, 0.25)) +  # Y-Achse fix\n",
    "  labs(\n",
    "    title = \"DOC Concentration along Virkisá\",\n",
    "    x = \"Distance from Glacier (m)\",\n",
    "    y = expression(\"DOC (mg L\"^-1*\")\"),\n",
    "    color = \"Time of Measurement\",\n",
    "    shape = \"Time of Measurement\"\n",
    "  ) +\n",
    "  coord_cartesian(clip = \"off\") +\n",
    "  theme_minimal(base_size = 12) +\n",
    "  theme(\n",
    "    legend.position = \"top\",\n",
    "    legend.direction = \"horizontal\",\n",
    "    legend.title = element_text(size = 12),\n",
    "    legend.text = element_text(size = 11),\n",
    "    legend.box = \"horizontal\",\n",
    "    plot.margin = margin(t = 10, r = 25, b = 10, l = 10),\n",
    "    plot.title = element_text(size = 14, hjust = 0.5),\n",
    "    axis.text = element_text(size = 11),\n",
    "    axis.title = element_text(size = 13)\n",
    "  )\n",
    "\n",
    "print(p_virkisa)\n",
    "\n",
    "ggsave(\"C:/Users/sophia/Dropbox/MASTER/Master_Data_Table/FINAL/Ergebnisse_distance/DOC_Virkisa_breit.png\",\n",
    "       plot = p_virkisa, width = 6.5, height = 4, dpi = 300)  # Breite ca. 16.5 cm\n"
   ]
  },
  {
   "cell_type": "code",
   "execution_count": null,
   "id": "885b7d01-6aac-42d9-a420-c5ec93e0c7f0",
   "metadata": {},
   "outputs": [],
   "source": []
  }
 ],
 "metadata": {
  "kernelspec": {
   "display_name": "R",
   "language": "R",
   "name": "ir"
  },
  "language_info": {
   "codemirror_mode": "r",
   "file_extension": ".r",
   "mimetype": "text/x-r-source",
   "name": "R",
   "pygments_lexer": "r",
   "version": "4.3.3"
  }
 },
 "nbformat": 4,
 "nbformat_minor": 5
}
