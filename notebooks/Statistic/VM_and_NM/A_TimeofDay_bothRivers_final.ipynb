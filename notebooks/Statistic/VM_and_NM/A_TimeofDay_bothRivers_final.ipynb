{
 "cells": [
  {
   "cell_type": "markdown",
   "id": "f1bd6705-faee-4e2d-b99e-3ef010a7fdf1",
   "metadata": {
    "jp-MarkdownHeadingCollapsed": true
   },
   "source": [
    "## Vestari"
   ]
  },
  {
   "cell_type": "code",
   "execution_count": 7,
   "id": "0ebbb3f6-e4be-480c-86c7-1a5b7941e5fe",
   "metadata": {},
   "outputs": [
    {
     "data": {
      "text/html": [
       "'C:/Users/sophia/Dropbox/MASTER/Master_Data_Table/FINAL/Ergebnisse_time/Plot_TimeOfDay_Vestari_Jokulsa.png'"
      ],
      "text/latex": [
       "'C:/Users/sophia/Dropbox/MASTER/Master\\_Data\\_Table/FINAL/Ergebnisse\\_time/Plot\\_TimeOfDay\\_Vestari\\_Jokulsa.png'"
      ],
      "text/markdown": [
       "'C:/Users/sophia/Dropbox/MASTER/Master_Data_Table/FINAL/Ergebnisse_time/Plot_TimeOfDay_Vestari_Jokulsa.png'"
      ],
      "text/plain": [
       "[1] \"C:/Users/sophia/Dropbox/MASTER/Master_Data_Table/FINAL/Ergebnisse_time/Plot_TimeOfDay_Vestari_Jokulsa.png\""
      ]
     },
     "metadata": {},
     "output_type": "display_data"
    },
    {
     "data": {
      "image/png": "[encoded data removed]",
      "text/plain": [
       "plot without title"
      ]
     },
     "metadata": {
      "image/png": {
       "height": 420,
       "width": 420
      }
     },
     "output_type": "display_data"
    }
   ],
   "source": [
    "# Pakete\n",
    "library(readxl)\n",
    "library(dplyr)\n",
    "library(ggplot2)\n",
    "library(tidyr)\n",
    "\n",
    "# Daten einlesen\n",
    "df <- read_excel(\"C:/Users/sophia/Dropbox/MASTER/Master_Data_Table/FINAL/Sophia_Data.xls\",\n",
    "                 sheet = \"FINAL_final_final\")\n",
    "\n",
    "# Vestari-Daten\n",
    "vestari <- df %>%\n",
    "  filter(river_name == \"Vestari_Joekulsa\") %>%\n",
    "  mutate(label_type = ifelse(grepl(\"VM\", DOC_label), \"Morning\", \"Afternoon\"))\n",
    "\n",
    "# DOC + BDOC_pct\n",
    "carbon_data <- vestari %>%\n",
    "  select(site_nr, average_DOC_sample, BDOC_pct, label_type) %>%\n",
    "  pivot_longer(cols = c(average_DOC_sample, BDOC_pct),\n",
    "               names_to = \"Variable\", values_to = \"Wert\") %>%\n",
    "  mutate(Variable = recode(Variable,\n",
    "                           \"average_DOC_sample\" = \"DOC (mg~L^{-1})\",\n",
    "                           \"BDOC_pct\" = \"BDOC (%)\"),\n",
    "         site_nr = factor(site_nr))\n",
    "\n",
    "# Flux Daten\n",
    "flux_data <- vestari %>%\n",
    "  distinct(site_nr, CO2_Flux) %>%\n",
    "  mutate(Variable = \"CO₂ Flux\", Wert = CO2_Flux,\n",
    "         site_nr = factor(site_nr),\n",
    "         label_type = NA)\n",
    "\n",
    "# Levels fix\n",
    "var_levels <- c(\"DOC (mg~L^{-1})\", \"BDOC (%)\", \"CO₂ Flux\")\n",
    "carbon_data$Variable <- factor(carbon_data$Variable, levels = var_levels)\n",
    "flux_data$Variable <- factor(flux_data$Variable, levels = var_levels)\n",
    "\n",
    "# Kombinieren\n",
    "combined_data <- bind_rows(\n",
    "  carbon_data %>% select(site_nr, Variable, Wert, label_type),\n",
    "  flux_data %>% select(site_nr, Variable, Wert, label_type)\n",
    ")\n",
    "\n",
    "# Reihenfolge Shapes\n",
    "combined_data$label_type <- factor(combined_data$label_type, levels = c(\"Morning\", \"Afternoon\"))\n",
    "\n",
    "# Vertikale Linien\n",
    "linien <- carbon_data %>%\n",
    "  select(site_nr, Variable, Wert, label_type) %>%\n",
    "  pivot_wider(names_from = label_type, values_from = Wert) %>%\n",
    "  filter(!is.na(Morning) & !is.na(Afternoon))\n",
    "\n",
    "# Farben\n",
    "farben <- c(\"DOC (mg~L^{-1})\" = \"#e41a1c\",\n",
    "            \"BDOC (%)\" = \"#fb6a4a\",\n",
    "            \"CO₂ Flux\" = \"#99000d\")\n",
    "\n",
    "# Labels\n",
    "facet_labels <- c(\n",
    "  \"DOC (mg~L^{-1})\" = \"DOC~(mg~L^{-1})\",\n",
    "  \"BDOC (%)\" = \"BDOC~('%')\",\n",
    "  \"CO₂ Flux\" = \"CO[2]~Flux~(mg~C~m^{-2}~d^{-1})\"\n",
    ")\n",
    "\n",
    "# Speicherpfad\n",
    "save_path <- \"C:/Users/sophia/Dropbox/MASTER/Master_Data_Table/FINAL/Ergebnisse_time/Plot_TimeOfDay_Vestari_Jokulsa.png\"\n",
    "\n",
    "# Plot\n",
    "p <- ggplot(combined_data, aes(x = site_nr, y = Wert)) +\n",
    "  ggtitle(\"Comparison of Carbon Parameters at Vestari_Jökulsá\") +\n",
    "  # Null-Linien: BDOC & CO₂ Flux (beide schwarz gepunktet)\n",
    "  geom_hline(data = data.frame(Variable = factor(\"BDOC (%)\", levels = var_levels)), \n",
    "             aes(yintercept = 0),\n",
    "             color = \"black\", size = 0.4, linetype = \"dotted\") +\n",
    "  geom_hline(data = data.frame(Variable = factor(\"CO₂ Flux\", levels = var_levels)), \n",
    "             aes(yintercept = 0),\n",
    "             color = \"black\", size = 0.4, linetype = \"dotted\") +\n",
    "  # Vertikale Linien\n",
    "  geom_segment(data = linien,\n",
    "               aes(x = site_nr, xend = site_nr, y = Morning, yend = Afternoon),\n",
    "               color = \"grey60\", size = 0.5, linetype = \"dotted\") +\n",
    "  # Linien DOC & BDOC\n",
    "  geom_line(data = carbon_data %>% filter(label_type == \"Morning\"),\n",
    "            aes(x = as.numeric(site_nr), y = Wert, group = Variable),\n",
    "            color = \"grey60\", linetype = \"dashed\", size = 0.5) +\n",
    "  geom_line(data = carbon_data %>% filter(label_type == \"Afternoon\"),\n",
    "            aes(x = as.numeric(site_nr), y = Wert, group = Variable),\n",
    "            color = \"grey60\", linetype = \"solid\", size = 0.5) +\n",
    "  # Punkte nur DOC & BDOC mit Shapes\n",
    "  geom_point(data = combined_data %>% filter(Variable != \"CO₂ Flux\"),\n",
    "             aes(shape = label_type, color = Variable),\n",
    "             size = 3, position = position_jitter(width = 0.1), na.rm = TRUE) +\n",
    "  # Punkte Flux ohne Shapes\n",
    "  geom_point(data = combined_data %>% filter(Variable == \"CO₂ Flux\"),\n",
    "             aes(color = Variable),\n",
    "             shape = 18, size = 3, na.rm = TRUE) +\n",
    "  scale_shape_manual(values = c(\"Morning\" = 17, \"Afternoon\" = 16), na.translate = FALSE) +\n",
    "  scale_color_manual(values = farben, guide = \"none\") +\n",
    "  facet_wrap(vars(Variable), scales = \"free_y\", ncol = 1, drop = FALSE,\n",
    "             labeller = as_labeller(facet_labels, label_parsed)) +\n",
    "  labs(x = \"Sampling Site\", y = NULL, shape = \"Time of Day:\") +\n",
    "  theme_minimal(base_size = 12) +\n",
    "  theme(plot.title = element_text(size = 16, face = \"bold\", hjust = 0.5, margin = margin(b = 15)),\n",
    "        strip.text = element_text(size = 14, face = \"bold\"),\n",
    "        strip.background = element_blank(),\n",
    "        axis.text.x = element_text(size = 10),\n",
    "        legend.position = \"top\",\n",
    "        legend.direction = \"horizontal\",\n",
    "        legend.title = element_text(size = 12, face = \"bold\", hjust = 0),\n",
    "        legend.text = element_text(size = 11),\n",
    "        legend.spacing.x = unit(0.5, 'cm'),\n",
    "        legend.justification = \"center\")\n",
    "\n",
    "# Plot anzeigen\n",
    "print(p)\n",
    "\n",
    "# Plot speichern in Textbreite (DIN A4), aber kompakter in der Höhe\n",
    "ggsave(filename = save_path, plot = p,\n",
    "       width = 5.9, height = 6.5, units = \"in\", dpi = 300)\n",
    "\n",
    "# Speicherpfad anzeigen\n",
    "save_path\n"
   ]
  },
  {
   "cell_type": "markdown",
   "id": "b514890a-dc1d-489b-804f-e389c7a88955",
   "metadata": {
    "jp-MarkdownHeadingCollapsed": true
   },
   "source": [
    "## Virkisa\n"
   ]
  },
  {
   "cell_type": "code",
   "execution_count": 6,
   "id": "f36bdb30-b5b6-46c9-b9c0-fb28bb4930f9",
   "metadata": {},
   "outputs": [
    {
     "name": "stderr",
     "output_type": "stream",
     "text": [
      "Warning message:\n",
      "\"\u001b[1m\u001b[22mRemoved 4 rows containing missing values or values outside the scale range (`geom_line()`).\"\n",
      "Warning message:\n",
      "\"\u001b[1m\u001b[22mRemoved 2 rows containing missing values or values outside the scale range (`geom_line()`).\"\n",
      "Warning message:\n",
      "\"\u001b[1m\u001b[22mRemoved 4 rows containing missing values or values outside the scale range (`geom_line()`).\"\n",
      "Warning message:\n",
      "\"\u001b[1m\u001b[22mRemoved 2 rows containing missing values or values outside the scale range (`geom_line()`).\"\n"
     ]
    },
    {
     "data": {
      "text/html": [
       "'C:/Users/sophia/Dropbox/MASTER/Master_Data_Table/FINAL/Ergebnisse_time/Plot_TimeOfDay_Virkisa.png'"
      ],
      "text/latex": [
       "'C:/Users/sophia/Dropbox/MASTER/Master\\_Data\\_Table/FINAL/Ergebnisse\\_time/Plot\\_TimeOfDay\\_Virkisa.png'"
      ],
      "text/markdown": [
       "'C:/Users/sophia/Dropbox/MASTER/Master_Data_Table/FINAL/Ergebnisse_time/Plot_TimeOfDay_Virkisa.png'"
      ],
      "text/plain": [
       "[1] \"C:/Users/sophia/Dropbox/MASTER/Master_Data_Table/FINAL/Ergebnisse_time/Plot_TimeOfDay_Virkisa.png\""
      ]
     },
     "metadata": {},
     "output_type": "display_data"
    },
    {
     "data": {
      "image/png": "[encoded data removed]",
      "text/plain": [
       "plot without title"
      ]
     },
     "metadata": {
      "image/png": {
       "height": 420,
       "width": 420
      }
     },
     "output_type": "display_data"
    }
   ],
   "source": [
    "# Pakete\n",
    "library(readxl)\n",
    "library(dplyr)\n",
    "library(ggplot2)\n",
    "library(tidyr)\n",
    "\n",
    "# Daten einlesen\n",
    "df <- read_excel(\"C:/Users/sophia/Dropbox/MASTER/Master_Data_Table/FINAL/Sophia_Data.xls\",\n",
    "                 sheet = \"FINAL_final_final\")\n",
    "\n",
    "# DOC & BDOC_pct nur group_nr == 1, Sites 1-7\n",
    "virkisa_carbon <- df %>%\n",
    "  filter(river_name == \"Virkisa\", group_nr == 1, site_nr <= 7) %>%\n",
    "  mutate(label_type = ifelse(grepl(\"VM\", DOC_label), \"Morning\", \"Afternoon\"))\n",
    "\n",
    "# Flux alle groups, Sites 1-7\n",
    "virkisa_flux <- df %>%\n",
    "  filter(river_name == \"Virkisa\", site_nr <= 7) %>%\n",
    "  mutate(label_type = ifelse(grepl(\"VM\", DOC_label), \"Morning\", \"Afternoon\"),\n",
    "         Flux_group = ifelse(group_nr == 1, \"Group 1\", \"Other Groups\")) %>%\n",
    "  distinct(site_nr, CO2_Flux, group_nr, label_type, Flux_group) %>%\n",
    "  mutate(Variable = \"CO₂ Flux\", Wert = CO2_Flux,\n",
    "         site_nr = factor(site_nr))\n",
    "\n",
    "# DOC + BDOC_pct ins Long Format\n",
    "carbon_data <- virkisa_carbon %>%\n",
    "  select(site_nr, average_DOC_sample, BDOC_pct, label_type) %>%\n",
    "  pivot_longer(cols = c(average_DOC_sample, BDOC_pct),\n",
    "               names_to = \"Variable\", values_to = \"Wert\") %>%\n",
    "  mutate(Variable = recode(Variable,\n",
    "                           \"average_DOC_sample\" = \"DOC (mg~L^{-1})\",\n",
    "                           \"BDOC_pct\" = \"BDOC (%)\"),\n",
    "         site_nr = factor(site_nr))\n",
    "\n",
    "# Levels fix\n",
    "var_levels <- c(\"DOC (mg~L^{-1})\", \"BDOC (%)\", \"CO₂ Flux\")\n",
    "carbon_data$Variable <- factor(carbon_data$Variable, levels = var_levels)\n",
    "virkisa_flux$Variable <- factor(virkisa_flux$Variable, levels = var_levels)\n",
    "\n",
    "# Kombinieren\n",
    "combined_data <- bind_rows(\n",
    "  carbon_data %>% select(site_nr, Variable, Wert, label_type),\n",
    "  virkisa_flux %>% select(site_nr, Variable, Wert, label_type, Flux_group)\n",
    ")\n",
    "\n",
    "# Reihenfolge Shapes\n",
    "combined_data$label_type <- factor(combined_data$label_type, levels = c(\"Morning\", \"Afternoon\"))\n",
    "\n",
    "# Vertikale Linien\n",
    "linien <- carbon_data %>%\n",
    "  select(site_nr, Variable, Wert, label_type) %>%\n",
    "  pivot_wider(names_from = label_type, values_from = Wert) %>%\n",
    "  filter(!is.na(Morning) & !is.na(Afternoon))\n",
    "\n",
    "# Farben\n",
    "farben <- c(\"DOC (mg~L^{-1})\" = \"#1b7837\",\n",
    "            \"BDOC (%)\" = \"#5aae61\",\n",
    "            \"CO₂ Flux\" = \"#a6dba0\")\n",
    "\n",
    "# Labels\n",
    "facet_labels <- c(\n",
    "  \"DOC (mg~L^{-1})\" = \"DOC~(mg~L^{-1})\",\n",
    "  \"BDOC (%)\" = \"BDOC~('%')\",\n",
    "  \"CO₂ Flux\" = \"CO[2]~Flux~(mg~C~m^{-2}~d^{-1})\"\n",
    ")\n",
    "\n",
    "# Speicherpfad\n",
    "save_path <- \"C:/Users/sophia/Dropbox/MASTER/Master_Data_Table/FINAL/Ergebnisse_time/Plot_TimeOfDay_Virkisa.png\"\n",
    "\n",
    "# Plot\n",
    "p <- ggplot(combined_data, aes(x = site_nr, y = Wert)) +\n",
    "  ggtitle(\"Comparison of Carbon Parameters at Virkisá\") +\n",
    "  # Null-Linien: BDOC (schwarz gepunktet) + CO₂ Flux (grau gestrichelt)\n",
    "  geom_hline(data = data.frame(Variable = factor(\"BDOC (%)\", levels = var_levels)), \n",
    "             aes(yintercept = 0),\n",
    "             color = \"black\", size = 0.4, linetype = \"dotted\") +\n",
    "  geom_hline(data = data.frame(Variable = factor(\"CO₂ Flux\", levels = var_levels)), \n",
    "             aes(yintercept = 0),\n",
    "             color = \"black\", size = 0.4, linetype = \"dotted\") +\n",
    "  # Vertikale Linien\n",
    "  geom_segment(data = linien,\n",
    "               aes(x = site_nr, xend = site_nr, y = Morning, yend = Afternoon),\n",
    "               color = \"grey60\", size = 0.5, linetype = \"dotted\") +\n",
    "  # Linien DOC & BDOC\n",
    "  geom_line(data = carbon_data %>% filter(label_type == \"Morning\"),\n",
    "            aes(x = as.numeric(site_nr), y = Wert, group = Variable),\n",
    "            color = \"grey60\", linetype = \"dashed\", size = 0.5) +\n",
    "  geom_line(data = carbon_data %>% filter(label_type == \"Afternoon\"),\n",
    "            aes(x = as.numeric(site_nr), y = Wert, group = Variable),\n",
    "            color = \"grey60\", linetype = \"solid\", size = 0.5) +\n",
    "  # Linien Flux (nur Group 1)\n",
    "  geom_line(data = virkisa_flux %>% filter(Flux_group == \"Group 1\", label_type == \"Morning\"),\n",
    "            aes(x = as.numeric(site_nr), y = Wert),\n",
    "            color = \"grey60\", linetype = \"dashed\", size = 0.5) +\n",
    "  geom_line(data = virkisa_flux %>% filter(Flux_group == \"Group 1\", label_type == \"Afternoon\"),\n",
    "            aes(x = as.numeric(site_nr), y = Wert),\n",
    "            color = \"grey60\", linetype = \"solid\", size = 0.5) +\n",
    "  # Punkte DOC & BDOC\n",
    "  geom_point(data = combined_data %>% filter(Variable != \"CO₂ Flux\"),\n",
    "             aes(shape = label_type, color = Variable),\n",
    "             size = 3, position = position_jitter(width = 0.1), na.rm = TRUE) +\n",
    "  # Flux Punkte Group 1 mit Shape\n",
    "  geom_point(data = combined_data %>% filter(Variable == \"CO₂ Flux\", Flux_group == \"Group 1\"),\n",
    "             aes(shape = label_type),\n",
    "             color = \"#1b7837\", size = 3, na.rm = TRUE) +\n",
    "  # Flux Punkte andere Gruppen offen\n",
    "  geom_point(data = combined_data %>% filter(Variable == \"CO₂ Flux\", Flux_group == \"Other Groups\"),\n",
    "             shape = 1, color = \"#c7e9c0\", size = 3, na.rm = TRUE) +\n",
    "  scale_shape_manual(values = c(\"Morning\" = 17, \"Afternoon\" = 16), na.translate = FALSE) +\n",
    "  scale_color_manual(values = farben, guide = \"none\") +\n",
    "  facet_wrap(vars(Variable), scales = \"free_y\", ncol = 1, drop = FALSE,\n",
    "             labeller = as_labeller(facet_labels, label_parsed)) +\n",
    "  labs(x = \"Sampling Site\", y = NULL, shape = \"Time of Day:\") +\n",
    "  theme_minimal(base_size = 12) +\n",
    "  theme(plot.title = element_text(size = 16, face = \"bold\", hjust = 0.5, margin = margin(b = 15)),\n",
    "        strip.text = element_text(size = 14, face = \"bold\"),\n",
    "        strip.background = element_blank(),\n",
    "        axis.text.x = element_text(size = 10),\n",
    "        legend.position = \"top\",\n",
    "        legend.direction = \"horizontal\",\n",
    "        legend.title = element_text(size = 12, face = \"bold\", hjust = 0),\n",
    "        legend.text = element_text(size = 11),\n",
    "        legend.spacing.x = unit(0.5, 'cm'),\n",
    "        legend.justification = \"center\")\n",
    "\n",
    "# Plot anzeigen\n",
    "print(p)\n",
    "\n",
    "# Plot speichern\n",
    "ggsave(filename = save_path, plot = p,\n",
    "       width = 5.9, height = 6.5, units = \"in\", dpi = 300)\n",
    "\n",
    "# Speicherpfad anzeigen\n",
    "save_path\n"
   ]
  },
  {
   "cell_type": "markdown",
   "id": "4e8e988a-f370-4d2a-bfa5-e9dfbfd60a4f",
   "metadata": {
    "jp-MarkdownHeadingCollapsed": true
   },
   "source": [
    "# signifikant  \n",
    "\n",
    "laut AK aber ka "
   ]
  },
  {
   "cell_type": "code",
   "execution_count": 3,
   "id": "9d038be1-4c60-4e67-9a35-1c590086c46d",
   "metadata": {},
   "outputs": [
    {
     "data": {
      "text/html": [
       "<style>\n",
       ".list-inline {list-style: none; margin:0; padding: 0}\n",
       ".list-inline>li {display: inline-block}\n",
       ".list-inline>li:not(:last-child)::after {content: \"\\00b7\"; padding: 0 .5ex}\n",
       "</style>\n",
       "<ol class=list-inline><li>'river_name'</li><li>'group_nr'</li><li>'DOC_label'</li><li>'site_nr'</li><li>'sample_date'</li><li>'distance_from_glacier'</li><li>'DOC'</li><li>'average_DOC_sample'</li><li>'BDOC_label'</li><li>'BDOC'</li><li>'average_BDOC_sample'</li><li>'BDOC_after_14_days'</li><li>'BDOC_pct'</li><li>'CO2_Flux'</li><li>'Hight_sl'</li><li>'time'</li></ol>\n"
      ],
      "text/latex": [
       "\\begin{enumerate*}\n",
       "\\item 'river\\_name'\n",
       "\\item 'group\\_nr'\n",
       "\\item 'DOC\\_label'\n",
       "\\item 'site\\_nr'\n",
       "\\item 'sample\\_date'\n",
       "\\item 'distance\\_from\\_glacier'\n",
       "\\item 'DOC'\n",
       "\\item 'average\\_DOC\\_sample'\n",
       "\\item 'BDOC\\_label'\n",
       "\\item 'BDOC'\n",
       "\\item 'average\\_BDOC\\_sample'\n",
       "\\item 'BDOC\\_after\\_14\\_days'\n",
       "\\item 'BDOC\\_pct'\n",
       "\\item 'CO2\\_Flux'\n",
       "\\item 'Hight\\_sl'\n",
       "\\item 'time'\n",
       "\\end{enumerate*}\n"
      ],
      "text/markdown": [
       "1. 'river_name'\n",
       "2. 'group_nr'\n",
       "3. 'DOC_label'\n",
       "4. 'site_nr'\n",
       "5. 'sample_date'\n",
       "6. 'distance_from_glacier'\n",
       "7. 'DOC'\n",
       "8. 'average_DOC_sample'\n",
       "9. 'BDOC_label'\n",
       "10. 'BDOC'\n",
       "11. 'average_BDOC_sample'\n",
       "12. 'BDOC_after_14_days'\n",
       "13. 'BDOC_pct'\n",
       "14. 'CO2_Flux'\n",
       "15. 'Hight_sl'\n",
       "16. 'time'\n",
       "\n",
       "\n"
      ],
      "text/plain": [
       " [1] \"river_name\"            \"group_nr\"              \"DOC_label\"            \n",
       " [4] \"site_nr\"               \"sample_date\"           \"distance_from_glacier\"\n",
       " [7] \"DOC\"                   \"average_DOC_sample\"    \"BDOC_label\"           \n",
       "[10] \"BDOC\"                  \"average_BDOC_sample\"   \"BDOC_after_14_days\"   \n",
       "[13] \"BDOC_pct\"              \"CO2_Flux\"              \"Hight_sl\"             \n",
       "[16] \"time\"                 "
      ]
     },
     "metadata": {},
     "output_type": "display_data"
    }
   ],
   "source": [
    "colnames(df)\n"
   ]
  },
  {
   "cell_type": "code",
   "execution_count": null,
   "id": "506b989c-f781-462b-96c6-acfb1d27b534",
   "metadata": {},
   "outputs": [
    {
     "data": {
      "text/plain": [
       "\n",
       "NM VM \n",
       "16 45 "
      ]
     },
     "metadata": {},
     "output_type": "display_data"
    },
    {
     "data": {
      "text/plain": [
       "\n",
       "\tShapiro-Wilk normality test\n",
       "\n",
       "data:  df$average_DOC_sample[df$time == \"VM\"]\n",
       "W = 0.90086, p-value = 0.001008\n"
      ]
     },
     "metadata": {},
     "output_type": "display_data"
    },
    {
     "data": {
      "text/plain": [
       "\n",
       "\tShapiro-Wilk normality test\n",
       "\n",
       "data:  df$average_DOC_sample[df$time == \"NM\"]\n",
       "W = 0.96918, p-value = 0.8252\n"
      ]
     },
     "metadata": {},
     "output_type": "display_data"
    },
    {
     "data": {
      "text/plain": [
       "\n",
       "\tShapiro-Wilk normality test\n",
       "\n",
       "data:  df$BDOC_pct[df$time == \"VM\"]\n",
       "W = 0.9593, p-value = 0.1307\n"
      ]
     },
     "metadata": {},
     "output_type": "display_data"
    },
    {
     "data": {
      "text/plain": [
       "\n",
       "\tShapiro-Wilk normality test\n",
       "\n",
       "data:  df$BDOC_pct[df$time == \"NM\"]\n",
       "W = 0.95075, p-value = 0.5725\n"
      ]
     },
     "metadata": {},
     "output_type": "display_data"
    },
    {
     "data": {
      "text/plain": [
       "\n",
       "\tShapiro-Wilk normality test\n",
       "\n",
       "data:  df$CO2_Flux[df$time == \"VM\"]\n",
       "W = 0.93744, p-value = 0.2144\n"
      ]
     },
     "metadata": {},
     "output_type": "display_data"
    },
    {
     "data": {
      "text/plain": [
       "\n",
       "\tShapiro-Wilk normality test\n",
       "\n",
       "data:  df$CO2_Flux[df$time == \"NM\"]\n",
       "W = 0.78898, p-value = 0.005057\n"
      ]
     },
     "metadata": {},
     "output_type": "display_data"
    },
    {
     "data": {
      "text/plain": [
       "\n",
       "\tWelch Two Sample t-test\n",
       "\n",
       "data:  average_DOC_sample by time\n",
       "t = -5.725, df = 56.587, p-value = 4.12e-07\n",
       "alternative hypothesis: true difference in means between group NM and group VM is not equal to 0\n",
       "95 percent confidence interval:\n",
       " -0.16383388 -0.07891349\n",
       "sample estimates:\n",
       "mean in group NM mean in group VM \n",
       "       0.1355803        0.2569540 \n"
      ]
     },
     "metadata": {},
     "output_type": "display_data"
    },
    {
     "data": {
      "text/plain": [
       "\n",
       "\tWilcoxon rank sum exact test\n",
       "\n",
       "data:  average_DOC_sample by time\n",
       "W = 122, p-value = 4.13e-05\n",
       "alternative hypothesis: true location shift is not equal to 0\n"
      ]
     },
     "metadata": {},
     "output_type": "display_data"
    },
    {
     "data": {
      "text/plain": [
       "\n",
       "\tWelch Two Sample t-test\n",
       "\n",
       "data:  BDOC_pct by time\n",
       "t = -3.0711, df = 20.662, p-value = 0.005871\n",
       "alternative hypothesis: true difference in means between group NM and group VM is not equal to 0\n",
       "95 percent confidence interval:\n",
       " -42.213444  -8.105487\n",
       "sample estimates:\n",
       "mean in group NM mean in group VM \n",
       "        7.038835        32.198300 \n"
      ]
     },
     "metadata": {},
     "output_type": "display_data"
    },
    {
     "data": {
      "text/plain": [
       "\n",
       "\tWilcoxon rank sum exact test\n",
       "\n",
       "data:  BDOC_pct by time\n",
       "W = 149, p-value = 0.004117\n",
       "alternative hypothesis: true location shift is not equal to 0\n"
      ]
     },
     "metadata": {},
     "output_type": "display_data"
    },
    {
     "data": {
      "text/plain": [
       "\n",
       "\tWelch Two Sample t-test\n",
       "\n",
       "data:  CO2_Flux by time\n",
       "t = 1.583, df = 28.333, p-value = 0.1245\n",
       "alternative hypothesis: true difference in means between group NM and group VM is not equal to 0\n",
       "95 percent confidence interval:\n",
       " -5.772546 45.127623\n",
       "sample estimates:\n",
       "mean in group NM mean in group VM \n",
       "       -18.94846        -38.62600 \n"
      ]
     },
     "metadata": {},
     "output_type": "display_data"
    },
    {
     "name": "stderr",
     "output_type": "stream",
     "text": [
      "Warning message in wilcox.test.default(x = DATA[[1L]], y = DATA[[2L]], ...):\n",
      "\"kann bei Bindungen keinen exakten p-Wert Berechnen\"\n"
     ]
    },
    {
     "data": {
      "text/plain": [
       "\n",
       "\tWilcoxon rank sum test with continuity correction\n",
       "\n",
       "data:  CO2_Flux by time\n",
       "W = 169, p-value = 0.1558\n",
       "alternative hypothesis: true location shift is not equal to 0\n"
      ]
     },
     "metadata": {},
     "output_type": "display_data"
    },
    {
     "name": "stderr",
     "output_type": "stream",
     "text": [
      "Warning message:\n",
      "\"\u001b[1m\u001b[22mRemoved 4 rows containing non-finite outside the scale range (`stat_boxplot()`).\"\n",
      "Warning message:\n",
      "\"\u001b[1m\u001b[22mRemoved 4 rows containing missing values or values outside the scale range (`geom_point()`).\"\n"
     ]
    },
    {
     "data": {
      "image/png": "[encoded data removed]",
      "text/plain": [
       "plot without title"
      ]
     },
     "metadata": {
      "image/png": {
       "height": 420,
       "width": 420
      }
     },
     "output_type": "display_data"
    },
    {
     "name": "stderr",
     "output_type": "stream",
     "text": [
      "Warning message:\n",
      "\"\u001b[1m\u001b[22mRemoved 28 rows containing non-finite outside the scale range (`stat_boxplot()`).\"\n",
      "Warning message:\n",
      "\"\u001b[1m\u001b[22mRemoved 28 rows containing missing values or values outside the scale range (`geom_point()`).\"\n"
     ]
    }
   ],
   "source": [
    "# Libraries laden\n",
    "library(readxl)\n",
    "library(dplyr)\n",
    "library(ggplot2)\n",
    "\n",
    "# Datei einlesen\n",
    "data_path <- \"C:/Users/sophia/Dropbox/MASTER/Master_Data_Table/FINAL/MASTER_DATA_short_Grouping.xlsx\"\n",
    "df <- read_excel(data_path)\n",
    "\n",
    "# Spaltennamen checken und Leerschläge entfernen\n",
    "colnames(df) <- trimws(colnames(df))\n",
    "\n",
    "# Gruppen überprüfen\n",
    "table(df$time)\n",
    "\n",
    "# --- Normalverteilung prüfen ---\n",
    "\n",
    "## DOC\n",
    "shapiro.test(df$average_DOC_sample[df$time == \"VM\"])\n",
    "shapiro.test(df$average_DOC_sample[df$time == \"NM\"])\n",
    "\n",
    "## BDOC_pct\n",
    "shapiro.test(df$BDOC_pct[df$time == \"VM\"])\n",
    "shapiro.test(df$BDOC_pct[df$time == \"NM\"])\n",
    "\n",
    "## CO2_Flux\n",
    "shapiro.test(df$CO2_Flux[df$time == \"VM\"])\n",
    "shapiro.test(df$CO2_Flux[df$time == \"NM\"])\n",
    "\n",
    "# --- Signifikanztests ---\n",
    "\n",
    "## DOC\n",
    "t.test(average_DOC_sample ~ time, data = df)\n",
    "# oder (falls nicht normalverteilt)\n",
    "wilcox.test(average_DOC_sample ~ time, data = df)\n",
    "\n",
    "## BDOC_pct\n",
    "t.test(BDOC_pct ~ time, data = df)\n",
    "# oder\n",
    "wilcox.test(BDOC_pct ~ time, data = df)\n",
    "\n",
    "## CO2_Flux\n",
    "t.test(CO2_Flux ~ time, data = df)\n",
    "# oder\n",
    "wilcox.test(CO2_Flux ~ time, data = df)\n",
    "\n",
    "# --- Plots ---\n",
    "\n",
    "## DOC\n",
    "ggplot(df, aes(x = time, y = average_DOC_sample)) +\n",
    "  geom_boxplot() +\n",
    "  geom_jitter(width = 0.2, alpha = 0.6) +\n",
    "  theme_minimal() +\n",
    "  labs(title = \"DOC by Group\", x = \"Group (time)\", y = \"average_DOC_sample [mg/L]\")\n",
    "\n",
    "## BDOC_pct\n",
    "ggplot(df, aes(x = time, y = BDOC_pct)) +\n",
    "  geom_boxplot() +\n",
    "  geom_jitter(width = 0.2, alpha = 0.6) +\n",
    "  theme_minimal() +\n",
    "  labs(title = \"BDOC_pct by Group\", x = \"Group (time)\", y = \"BDOC [%]\")\n",
    "\n",
    "## CO2_Flux\n",
    "ggplot(df, aes(x = time, y = CO2_Flux)) +\n",
    "  geom_boxplot() +\n",
    "  geom_jitter(width = 0.2, alpha = 0.6) +\n",
    "  theme_minimal() +\n",
    "  labs(title = \"CO2 Flux by Group\", x = \"Group (time)\", y = \"CO2 Flux [mg m⁻² h⁻¹]\")\n"
   ]
  },
  {
   "cell_type": "code",
   "execution_count": null,
   "id": "945dc3b2-ec4d-4de3-a118-a4c039f02a53",
   "metadata": {},
   "outputs": [],
   "source": [
    "# Dataframe erstellen\n",
    "summary_table <- data.frame(\n",
    "  Fluss = c(\"Vestari_Joekulsa\", \"Vestari_Joekulsa\", \"Vestari_Joekulsa\",\n",
    "            \"Virkisa\", \"Virkisa\", \"Virkisa\"),\n",
    "  Variable = c(\"DOC\", \"BDOC_pct\", \"CO2_Flux\",\n",
    "               \"DOC\", \"BDOC_pct\", \"CO2_Flux\"),\n",
    "  Test = c(\"t-Test\", \"t-Test\", \"t-Test\",\n",
    "           \"Wilcoxon-Test\", \"t-Test\", \"t-Test\"),\n",
    "  p_Wert = c(0.39, 0.66, 1.00,\n",
    "             0.00026, 0.00031, 0.42),\n",
    "  Signifikant = c(\"Nein\", \"Nein\", \"Nein\",\n",
    "                  \"Ja\", \"Ja\", \"Nein\")\n",
    ")\n",
    "\n",
    "# p-Werte runden (optional)\n",
    "summary_table$p_Wert <- round(summary_table$p_Wert, 5)\n",
    "\n",
    "# Tabelle anzeigen\n",
    "summary_table\n"
   ]
  },
  {
   "cell_type": "raw",
   "id": "b888aa07-b057-46e7-a2a1-ccd803f866bc",
   "metadata": {},
   "source": [
    "https://github.com/kokkaso/MA_supplementary_Data/tree/main/notebooks/Statistic/VM_and_NM"
   ]
  },
  {
   "cell_type": "code",
   "execution_count": null,
   "id": "f0252fe3-0319-4a2a-979a-c585a12eb5d8",
   "metadata": {},
   "outputs": [],
   "source": []
  }
 ],
 "metadata": {
  "kernelspec": {
   "display_name": "R",
   "language": "R",
   "name": "ir"
  },
  "language_info": {
   "codemirror_mode": "r",
   "file_extension": ".r",
   "mimetype": "text/x-r-source",
   "name": "R",
   "pygments_lexer": "r",
   "version": "4.3.3"
  }
 },
 "nbformat": 4,
 "nbformat_minor": 5
}
