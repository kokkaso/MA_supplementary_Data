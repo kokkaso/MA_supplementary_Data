{
 "cells": [
  {
   "cell_type": "markdown",
   "id": "f1bd6705-faee-4e2d-b99e-3ef010a7fdf1",
   "metadata": {
    "jp-MarkdownHeadingCollapsed": true
   },
   "source": [
    "## Vestari"
   ]
  },
  {
   "cell_type": "code",
   "execution_count": 39,
   "id": "f8ec8361-276f-4601-a02d-b6738985c390",
   "metadata": {},
   "outputs": [
    {
     "name": "stderr",
     "output_type": "stream",
     "text": [
      "Warning message in geom_hline(data = data.frame(Variable = factor(\"CO₂ Flux\", :\n",
      "\"\u001b[1m\u001b[22mIgnoring unknown parameters: `inherit.aes`\"\n"
     ]
    },
    {
     "data": {
      "text/html": [
       "'C:/Users/sophia/Dropbox/MASTER/Master_Data_Table/FINAL/Ergebnisse_time/Plot_TimeOfDay_Vestari_Jokulsa.png'"
      ],
      "text/latex": [
       "'C:/Users/sophia/Dropbox/MASTER/Master\\_Data\\_Table/FINAL/Ergebnisse\\_time/Plot\\_TimeOfDay\\_Vestari\\_Jokulsa.png'"
      ],
      "text/markdown": [
       "'C:/Users/sophia/Dropbox/MASTER/Master_Data_Table/FINAL/Ergebnisse_time/Plot_TimeOfDay_Vestari_Jokulsa.png'"
      ],
      "text/plain": [
       "[1] \"C:/Users/sophia/Dropbox/MASTER/Master_Data_Table/FINAL/Ergebnisse_time/Plot_TimeOfDay_Vestari_Jokulsa.png\""
      ]
     },
     "metadata": {},
     "output_type": "display_data"
    },
    {
     "data": {
      "image/png": "[encoded data removed]",
      "text/plain": [
       "plot without title"
      ]
     },
     "metadata": {
      "image/png": {
       "height": 420,
       "width": 420
      }
     },
     "output_type": "display_data"
    }
   ],
   "source": [
    "# Pakete\n",
    "library(readxl)\n",
    "library(dplyr)\n",
    "library(ggplot2)\n",
    "library(tidyr)\n",
    "\n",
    "# Daten einlesen\n",
    "df <- read_excel(\"C:/Users/sophia/Dropbox/MASTER/Master_Data_Table/FINAL/MASTER_DATA_short_Grouping.xlsx\",\n",
    "                 sheet = \"FINAL_final_final\")\n",
    "\n",
    "# Vestari-Daten\n",
    "vestari <- df %>%\n",
    "  filter(river_name == \"Vestari_Joekulsa\") %>%\n",
    "  mutate(label_type = ifelse(grepl(\"VM\", DOC_label), \"Morning\", \"Afternoon\"),\n",
    "         BDOC_DOC_ratio = BDOC / DOC)\n",
    "\n",
    "# DOC + BDOC\n",
    "carbon_data <- vestari %>%\n",
    "  select(site_nr, DOC, BDOC_DOC_ratio, label_type) %>%\n",
    "  pivot_longer(cols = c(DOC, BDOC_DOC_ratio),\n",
    "               names_to = \"Variable\", values_to = \"Wert\") %>%\n",
    "  mutate(Variable = recode(Variable,\n",
    "                           \"DOC\" = \"DOC (mg~L^{-1})\",\n",
    "                           \"BDOC_DOC_ratio\" = \"BDOC / DOC Ratio\"),\n",
    "         site_nr = factor(site_nr))\n",
    "\n",
    "# Flux Daten\n",
    "flux_data <- vestari %>%\n",
    "  distinct(site_nr, CO2_Flux) %>%\n",
    "  mutate(Variable = \"CO₂ Flux\", Wert = CO2_Flux,\n",
    "         site_nr = factor(site_nr),\n",
    "         label_type = NA)\n",
    "\n",
    "# Levels fix\n",
    "var_levels <- c(\"DOC (mg~L^{-1})\", \"BDOC / DOC Ratio\", \"CO₂ Flux\")\n",
    "carbon_data$Variable <- factor(carbon_data$Variable, levels = var_levels)\n",
    "flux_data$Variable <- factor(flux_data$Variable, levels = var_levels)\n",
    "\n",
    "# Kombinieren\n",
    "combined_data <- bind_rows(\n",
    "  carbon_data %>% select(site_nr, Variable, Wert, label_type),\n",
    "  flux_data %>% select(site_nr, Variable, Wert, label_type)\n",
    ")\n",
    "\n",
    "# Reihenfolge Shapes\n",
    "combined_data$label_type <- factor(combined_data$label_type, levels = c(\"Morning\", \"Afternoon\"))\n",
    "\n",
    "# Vertikale Linien\n",
    "linien <- carbon_data %>%\n",
    "  select(site_nr, Variable, Wert, label_type) %>%\n",
    "  pivot_wider(names_from = label_type, values_from = Wert) %>%\n",
    "  filter(!is.na(Morning) & !is.na(Afternoon))\n",
    "\n",
    "# Farben\n",
    "farben <- c(\"DOC (mg~L^{-1})\" = \"#e41a1c\",\n",
    "            \"BDOC / DOC Ratio\" = \"#fb6a4a\",\n",
    "            \"CO₂ Flux\" = \"#99000d\")\n",
    "\n",
    "# Labels\n",
    "facet_labels <- c(\n",
    "  \"DOC (mg~L^{-1})\" = \"DOC~(mg~L^{-1})\",\n",
    "  \"BDOC / DOC Ratio\" = \"BDOC / DOC~Ratio\",\n",
    "  \"CO₂ Flux\" = \"CO[2]~Flux~(mg~C~m^{-2}~d^{-1})\"\n",
    ")\n",
    "\n",
    "# Speicherpfad\n",
    "save_path <- \"C:/Users/sophia/Dropbox/MASTER/Master_Data_Table/FINAL/Ergebnisse_time/Plot_TimeOfDay_Vestari_Jokulsa.png\"\n",
    "\n",
    "# Plot\n",
    "p <- ggplot(combined_data, aes(x = site_nr, y = Wert)) +\n",
    "  ggtitle(\"Comparison of Carbon Parameters at Vestari_Jökulsá\") +\n",
    "  # Null-Linie nur Flux\n",
    "  geom_hline(data = data.frame(Variable = factor(\"CO₂ Flux\", levels = var_levels)), aes(yintercept = 0),\n",
    "             color = \"grey70\", size = 0.4, inherit.aes = FALSE) +\n",
    "  # Vertikale Linien\n",
    "  geom_segment(data = linien,\n",
    "               aes(x = site_nr, xend = site_nr, y = Morning, yend = Afternoon),\n",
    "               color = \"grey60\", size = 0.5, linetype = \"dotted\", inherit.aes = FALSE) +\n",
    "  # Linien DOC & BDOC\n",
    "  geom_line(data = carbon_data %>% filter(label_type == \"Morning\"),\n",
    "            aes(x = as.numeric(site_nr), y = Wert, group = Variable),\n",
    "            color = \"grey60\", linetype = \"dashed\", size = 0.5, inherit.aes = FALSE) +\n",
    "  geom_line(data = carbon_data %>% filter(label_type == \"Afternoon\"),\n",
    "            aes(x = as.numeric(site_nr), y = Wert, group = Variable),\n",
    "            color = \"grey60\", linetype = \"solid\", size = 0.5, inherit.aes = FALSE) +\n",
    "  # Punkte nur DOC & BDOC mit Shapes\n",
    "  geom_point(data = combined_data %>% filter(Variable != \"CO₂ Flux\"),\n",
    "             aes(shape = label_type, color = Variable),\n",
    "             size = 3, position = position_jitter(width = 0.1), na.rm = TRUE) +\n",
    "  # Punkte Flux ohne Shapes\n",
    "  geom_point(data = combined_data %>% filter(Variable == \"CO₂ Flux\"),\n",
    "             aes(color = Variable),\n",
    "             shape = 18, size = 3, na.rm = TRUE) +\n",
    "  scale_shape_manual(values = c(\"Morning\" = 17, \"Afternoon\" = 16), na.translate = FALSE) +\n",
    "  scale_color_manual(values = farben, guide = \"none\") +\n",
    "  facet_wrap(vars(Variable), scales = \"free_y\", ncol = 1, drop = FALSE,\n",
    "             labeller = as_labeller(facet_labels, label_parsed)) +\n",
    "  labs(x = \"Sampling Site\", y = NULL, shape = \"Time of Day:\") +\n",
    "  theme_minimal(base_size = 12) +\n",
    "  theme(plot.title = element_text(size = 16, face = \"bold\", hjust = 0.5, margin = margin(b = 15)),\n",
    "        strip.text = element_text(size = 14, face = \"bold\"),\n",
    "        strip.background = element_blank(),\n",
    "        axis.text.x = element_text(size = 10),\n",
    "        legend.position = \"top\",\n",
    "        legend.direction = \"horizontal\",\n",
    "        legend.title = element_text(size = 12, face = \"bold\", hjust = 0),\n",
    "        legend.text = element_text(size = 11),\n",
    "        legend.spacing.x = unit(0.5, 'cm'),\n",
    "        legend.justification = \"center\")\n",
    "\n",
    "# Plot anzeigen\n",
    "print(p)\n",
    "\n",
    "# Speichern\n",
    "ggsave(filename = save_path, plot = p,\n",
    "       width = 8.27, height = 11.69, units = \"in\", dpi = 300)\n",
    "\n",
    "# Speicherpfad anzeigen\n",
    "save_path\n"
   ]
  },
  {
   "cell_type": "markdown",
   "id": "b514890a-dc1d-489b-804f-e389c7a88955",
   "metadata": {},
   "source": [
    "## Virkisa\n"
   ]
  },
  {
   "cell_type": "code",
   "execution_count": 43,
   "id": "9360af35-ad54-4eff-a7cc-73c089a03d31",
   "metadata": {},
   "outputs": [
    {
     "name": "stderr",
     "output_type": "stream",
     "text": [
      "Warning message in geom_hline(data = data.frame(Variable = factor(\"CO₂ Flux\", :\n",
      "\"\u001b[1m\u001b[22mIgnoring unknown parameters: `inherit.aes`\"\n",
      "Warning message:\n",
      "\"\u001b[1m\u001b[22mRemoved 4 rows containing missing values or values outside the scale range (`geom_line()`).\"\n",
      "Warning message:\n",
      "\"\u001b[1m\u001b[22mRemoved 2 rows containing missing values or values outside the scale range (`geom_line()`).\"\n",
      "Warning message:\n",
      "\"\u001b[1m\u001b[22mRemoved 4 rows containing missing values or values outside the scale range (`geom_line()`).\"\n",
      "Warning message:\n",
      "\"\u001b[1m\u001b[22mRemoved 2 rows containing missing values or values outside the scale range (`geom_line()`).\"\n"
     ]
    },
    {
     "data": {
      "text/html": [
       "'C:/Users/sophia/Dropbox/MASTER/Master_Data_Table/FINAL/Ergebnisse_time/Plot_TimeOfDay_Virkisa.png'"
      ],
      "text/latex": [
       "'C:/Users/sophia/Dropbox/MASTER/Master\\_Data\\_Table/FINAL/Ergebnisse\\_time/Plot\\_TimeOfDay\\_Virkisa.png'"
      ],
      "text/markdown": [
       "'C:/Users/sophia/Dropbox/MASTER/Master_Data_Table/FINAL/Ergebnisse_time/Plot_TimeOfDay_Virkisa.png'"
      ],
      "text/plain": [
       "[1] \"C:/Users/sophia/Dropbox/MASTER/Master_Data_Table/FINAL/Ergebnisse_time/Plot_TimeOfDay_Virkisa.png\""
      ]
     },
     "metadata": {},
     "output_type": "display_data"
    },
    {
     "data": {
      "image/png": "[encoded data removed]",
      "text/plain": [
       "plot without title"
      ]
     },
     "metadata": {
      "image/png": {
       "height": 420,
       "width": 420
      }
     },
     "output_type": "display_data"
    }
   ],
   "source": [
    "# Pakete\n",
    "library(readxl)\n",
    "library(dplyr)\n",
    "library(ggplot2)\n",
    "library(tidyr)\n",
    "\n",
    "# Daten einlesen\n",
    "df <- read_excel(\"C:/Users/sophia/Dropbox/MASTER/Master_Data_Table/FINAL/MASTER_DATA_short_Grouping.xlsx\",\n",
    "                 sheet = \"FINAL_final_final\")\n",
    "\n",
    "# Virkisa DOC & BDOC nur group_nr == 1\n",
    "virkisa_carbon <- df %>%\n",
    "  filter(river_name == \"Virkisa\", group_nr == 1) %>%\n",
    "  mutate(label_type = ifelse(grepl(\"VM\", DOC_label), \"Morning\", \"Afternoon\"),\n",
    "         BDOC_DOC_ratio = BDOC / DOC)\n",
    "\n",
    "# Flux alle groups\n",
    "virkisa_flux <- df %>%\n",
    "  filter(river_name == \"Virkisa\") %>%\n",
    "  mutate(label_type = ifelse(grepl(\"VM\", DOC_label), \"Morning\", \"Afternoon\"),\n",
    "         Flux_group = ifelse(group_nr == 1, \"Group 1\", \"Other Groups\")) %>%\n",
    "  distinct(site_nr, CO2_Flux, group_nr, label_type, Flux_group) %>%\n",
    "  mutate(Variable = \"CO₂ Flux\", Wert = CO2_Flux,\n",
    "         site_nr = factor(site_nr))\n",
    "\n",
    "# DOC + BDOC ins Long Format\n",
    "carbon_data <- virkisa_carbon %>%\n",
    "  select(site_nr, DOC, BDOC_DOC_ratio, label_type) %>%\n",
    "  pivot_longer(cols = c(DOC, BDOC_DOC_ratio),\n",
    "               names_to = \"Variable\", values_to = \"Wert\") %>%\n",
    "  mutate(Variable = recode(Variable,\n",
    "                           \"DOC\" = \"DOC (mg~L^{-1})\",\n",
    "                           \"BDOC_DOC_ratio\" = \"BDOC / DOC Ratio\"),\n",
    "         site_nr = factor(site_nr))\n",
    "\n",
    "# Levels fix\n",
    "var_levels <- c(\"DOC (mg~L^{-1})\", \"BDOC / DOC Ratio\", \"CO₂ Flux\")\n",
    "carbon_data$Variable <- factor(carbon_data$Variable, levels = var_levels)\n",
    "virkisa_flux$Variable <- factor(virkisa_flux$Variable, levels = var_levels)\n",
    "\n",
    "# Kombinieren\n",
    "combined_data <- bind_rows(\n",
    "  carbon_data %>% select(site_nr, Variable, Wert, label_type),\n",
    "  virkisa_flux %>% select(site_nr, Variable, Wert, label_type, Flux_group)\n",
    ")\n",
    "\n",
    "# Reihenfolge Shapes\n",
    "combined_data$label_type <- factor(combined_data$label_type, levels = c(\"Morning\", \"Afternoon\"))\n",
    "\n",
    "# Vertikale Linien\n",
    "linien <- carbon_data %>%\n",
    "  select(site_nr, Variable, Wert, label_type) %>%\n",
    "  pivot_wider(names_from = label_type, values_from = Wert) %>%\n",
    "  filter(!is.na(Morning) & !is.na(Afternoon))\n",
    "\n",
    "# Farben\n",
    "farben <- c(\"DOC (mg~L^{-1})\" = \"#1b7837\",\n",
    "            \"BDOC / DOC Ratio\" = \"#5aae61\",\n",
    "            \"CO₂ Flux\" = \"#a6dba0\")\n",
    "\n",
    "# Labels\n",
    "facet_labels <- c(\n",
    "  \"DOC (mg~L^{-1})\" = \"DOC~(mg~L^{-1})\",\n",
    "  \"BDOC / DOC Ratio\" = \"BDOC / DOC~Ratio\",\n",
    "  \"CO₂ Flux\" = \"CO[2]~Flux~(mg~C~m^{-2}~d^{-1})\"\n",
    ")\n",
    "\n",
    "# Speicherpfad\n",
    "save_path <- \"C:/Users/sophia/Dropbox/MASTER/Master_Data_Table/FINAL/Ergebnisse_time/Plot_TimeOfDay_Virkisa.png\"\n",
    "\n",
    "# Plot\n",
    "p <- ggplot(combined_data, aes(x = site_nr, y = Wert)) +\n",
    "  ggtitle(\"Comparison of Carbon Parameters at Virkisá\") +\n",
    "  # Null-Linie nur Flux\n",
    "  geom_hline(data = data.frame(Variable = factor(\"CO₂ Flux\", levels = var_levels)), aes(yintercept = 0),\n",
    "             color = \"grey70\", size = 0.4, inherit.aes = FALSE) +\n",
    "  # Vertikale Linien\n",
    "  geom_segment(data = linien,\n",
    "               aes(x = site_nr, xend = site_nr, y = Morning, yend = Afternoon),\n",
    "               color = \"grey60\", size = 0.5, linetype = \"dotted\", inherit.aes = FALSE) +\n",
    "  # Linien DOC & BDOC\n",
    "  geom_line(data = carbon_data %>% filter(label_type == \"Morning\"),\n",
    "            aes(x = as.numeric(site_nr), y = Wert, group = Variable),\n",
    "            color = \"grey60\", linetype = \"dashed\", size = 0.5, inherit.aes = FALSE) +\n",
    "  geom_line(data = carbon_data %>% filter(label_type == \"Afternoon\"),\n",
    "            aes(x = as.numeric(site_nr), y = Wert, group = Variable),\n",
    "            color = \"grey60\", linetype = \"solid\", size = 0.5, inherit.aes = FALSE) +\n",
    "  # Linien Flux (nur Group 1)\n",
    "  geom_line(data = virkisa_flux %>% filter(Flux_group == \"Group 1\", label_type == \"Morning\"),\n",
    "            aes(x = as.numeric(site_nr), y = Wert),\n",
    "            color = \"grey60\", linetype = \"dashed\", size = 0.5, inherit.aes = FALSE) +\n",
    "  geom_line(data = virkisa_flux %>% filter(Flux_group == \"Group 1\", label_type == \"Afternoon\"),\n",
    "            aes(x = as.numeric(site_nr), y = Wert),\n",
    "            color = \"grey60\", linetype = \"solid\", size = 0.5, inherit.aes = FALSE) +\n",
    "  # Punkte DOC & BDOC\n",
    "  geom_point(data = combined_data %>% filter(Variable != \"CO₂ Flux\"),\n",
    "             aes(shape = label_type, color = Variable),\n",
    "             size = 3, position = position_jitter(width = 0.1), na.rm = TRUE) +\n",
    "  # Flux Punkte Group 1 mit Shape\n",
    "  geom_point(data = combined_data %>% filter(Variable == \"CO₂ Flux\", Flux_group == \"Group 1\"),\n",
    "             aes(shape = label_type),\n",
    "             color = \"#1b7837\", size = 3, na.rm = TRUE) +\n",
    "  # Flux Punkte andere Gruppen offen\n",
    "  geom_point(data = combined_data %>% filter(Variable == \"CO₂ Flux\", Flux_group == \"Other Groups\"),\n",
    "             shape = 1, color = \"#c7e9c0\", size = 3, na.rm = TRUE) +\n",
    "  scale_shape_manual(values = c(\"Morning\" = 17, \"Afternoon\" = 16), na.translate = FALSE) +\n",
    "  scale_color_manual(values = farben, guide = \"none\") +\n",
    "  facet_wrap(vars(Variable), scales = \"free_y\", ncol = 1, drop = FALSE,\n",
    "             labeller = as_labeller(facet_labels, label_parsed)) +\n",
    "  labs(x = \"Sampling Site\", y = NULL, shape = \"Time of Day:\") +\n",
    "  theme_minimal(base_size = 12) +\n",
    "  theme(plot.title = element_text(size = 16, face = \"bold\", hjust = 0.5, margin = margin(b = 15)),\n",
    "        strip.text = element_text(size = 14, face = \"bold\"),\n",
    "        strip.background = element_blank(),\n",
    "        axis.text.x = element_text(size = 10),\n",
    "        legend.position = \"top\",\n",
    "        legend.direction = \"horizontal\",\n",
    "        legend.title = element_text(size = 12, face = \"bold\", hjust = 0),\n",
    "        legend.text = element_text(size = 11),\n",
    "        legend.spacing.x = unit(0.5, 'cm'),\n",
    "        legend.justification = \"center\")\n",
    "\n",
    "# Plot anzeigen\n",
    "print(p)\n",
    "\n",
    "# Speichern\n",
    "ggsave(filename = save_path, plot = p,\n",
    "       width = 8.27, height = 11.69, units = \"in\", dpi = 300)\n",
    "\n",
    "# Speicherpfad anzeigen\n",
    "save_path\n",
    "\n"
   ]
  },
  {
   "cell_type": "code",
   "execution_count": null,
   "id": "c242ce41-1b9c-4b62-a05c-0835ee1e8b4c",
   "metadata": {},
   "outputs": [],
   "source": []
  }
 ],
 "metadata": {
  "kernelspec": {
   "display_name": "R",
   "language": "R",
   "name": "ir"
  },
  "language_info": {
   "codemirror_mode": "r",
   "file_extension": ".r",
   "mimetype": "text/x-r-source",
   "name": "R",
   "pygments_lexer": "r",
   "version": "4.3.3"
  }
 },
 "nbformat": 4,
 "nbformat_minor": 5
}
