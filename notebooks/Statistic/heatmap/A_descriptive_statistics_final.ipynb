{
 "cells": [
  {
   "cell_type": "markdown",
   "id": "d15abac3-2509-4219-bbe9-90c9cb882f26",
   "metadata": {},
   "source": [
    "# Tabelle "
   ]
  },
  {
   "cell_type": "code",
   "execution_count": 2,
   "id": "9025f9e6-fea0-4bd7-aeed-804f3aa0e5c5",
   "metadata": {},
   "outputs": [
    {
     "data": {
      "text/plain": [
       "\n",
       "\n",
       "Table: Descriptive statistics of carbon-related variables by group\n",
       "\n",
       "|Group              |Variable           |Minimum |Maximum |Median |Mean   |Standard.Deviation |N  |\n",
       "|:------------------|:------------------|:-------|:-------|:------|:------|:------------------|:--|\n",
       "|Vestari-Jökulsá    |average_DOC_sample |0.07    |0.28    |0.14   |0.15   |0.05               |18 |\n",
       "|Vestari-Jökulsá    |BDOC_pct           |-37.40  |62.98   |27.46  |23.09  |25.93              |14 |\n",
       "|Vestari-Jökulsá    |CO2_Flux           |-13.19  |12.27   |-5.84  |-1.47  |9.99               |16 |\n",
       "|Virkisá – all      |average_DOC_sample |0.10    |0.59    |0.22   |0.26   |0.13               |43 |\n",
       "|Virkisá – all      |BDOC_pct           |-32.23  |69.68   |31.35  |26.97  |28.26              |43 |\n",
       "|Virkisá – all      |CO2_Flux           |-108.84 |-17.59  |-56.82 |-58.55 |30.46              |17 |\n",
       "|Virkisá – Group 1  |average_DOC_sample |0.10    |0.17    |0.13   |0.13   |0.02               |14 |\n",
       "|Virkisá – Group 1  |BDOC_pct           |-32.23  |25.46   |-1.66  |-4.54  |17.67              |14 |\n",
       "|Virkisá – Group 1  |CO2_Flux           |-107.41 |-17.59  |-49.16 |-57.56 |37.26              |8  |\n",
       "|Virkisá – Group >1 |average_DOC_sample |0.16    |0.59    |0.29   |0.32   |0.12               |29 |\n",
       "|Virkisá – Group >1 |BDOC_pct           |1.51    |69.68   |41.17  |42.18  |17.80              |29 |\n",
       "|Virkisá – Group >1 |CO2_Flux           |-108.84 |-31.83  |-56.82 |-59.43 |25.27              |9  |"
      ]
     },
     "metadata": {},
     "output_type": "display_data"
    },
    {
     "name": "stdout",
     "output_type": "stream",
     "text": [
      "✅ Die Excel-Datei wurde gespeichert unter:\n",
      " C:/Users/sophia/Dropbox/MASTER/Master_Data_Table/FINAL/Ergebnisse_Tabelle/Descriptive_Statistics.xlsx"
     ]
    }
   ],
   "source": [
    "# 📦 Pakete laden\n",
    "library(readxl)\n",
    "library(dplyr)\n",
    "library(tidyr)\n",
    "library(writexl)  # Für Excel-Export\n",
    "library(knitr)    # Für Anzeige im Notebook\n",
    "\n",
    "# 📁 Datei einlesen\n",
    "file_path <- \"C:/Users/sophia/Dropbox/MASTER/Master_Data_Table/FINAL/MASTER_DATA_short_Grouping.xlsx\"\n",
    "df <- read_excel(file_path)\n",
    "\n",
    "# 📊 Daten vorbereiten\n",
    "df_subset <- df %>%\n",
    "  select(river_name, group_nr, average_DOC_sample, BDOC_pct, CO2_Flux) %>%\n",
    "  mutate(Group = case_when(\n",
    "    river_name == \"Vestari_Joekulsa\" ~ \"Vestari-Jökulsá\",\n",
    "    river_name == \"Virkisa\" & group_nr == 1 ~ \"Virkisá – Group 1\",\n",
    "    river_name == \"Virkisa\" & group_nr > 1 ~ \"Virkisá – Group >1\",\n",
    "    river_name == \"Virkisa\" ~ \"Virkisá – all\"\n",
    "  ))\n",
    "\n",
    "# 📌 Gruppen & Variablen\n",
    "groups <- c(\"Vestari-Jökulsá\", \"Virkisá – all\", \"Virkisá – Group 1\", \"Virkisá – Group >1\")\n",
    "variables <- c(\"average_DOC_sample\", \"BDOC_pct\", \"CO2_Flux\")\n",
    "\n",
    "# 🧮 Funktion für deskriptive Statistik\n",
    "compute_summary <- function(df, group) {\n",
    "  data <- if (group == \"Virkisá – all\") {\n",
    "    df %>% filter(river_name == \"Virkisa\")\n",
    "  } else {\n",
    "    df %>% filter(Group == group)\n",
    "  }\n",
    "  \n",
    "  lapply(variables, function(var) {\n",
    "    values <- data[[var]]\n",
    "    data.frame(\n",
    "      Group = group,\n",
    "      Variable = var,\n",
    "      Minimum = round(min(values, na.rm = TRUE), 2),\n",
    "      Maximum = round(max(values, na.rm = TRUE), 2),\n",
    "      Median = round(median(values, na.rm = TRUE), 2),\n",
    "      Mean = round(mean(values, na.rm = TRUE), 2),\n",
    "      `Standard Deviation` = round(sd(values, na.rm = TRUE), 2),\n",
    "      N = sum(!is.na(values))\n",
    "    )\n",
    "  }) %>% bind_rows()\n",
    "}\n",
    "\n",
    "# 📋 Tabelle erstellen\n",
    "summary_table <- bind_rows(lapply(groups, function(g) compute_summary(df_subset, g)))\n",
    "\n",
    "# 💾 Excel-Datei speichern\n",
    "output_path <- \"C:/Users/sophia/Dropbox/MASTER/Master_Data_Table/FINAL/Ergebnisse_Tabelle/Descriptive_Statistics.xlsx\"\n",
    "write_xlsx(summary_table, output_path)\n",
    "\n",
    "# 📄 Tabelle im Notebook anzeigen\n",
    "kable(summary_table, align = \"l\", caption = \"Descriptive statistics of carbon-related variables by group\")\n",
    "\n",
    "# ✅ Hinweis ausgeben\n",
    "cat(\"✅ Die Excel-Datei wurde gespeichert unter:\\n\", output_path)\n"
   ]
  },
  {
   "cell_type": "markdown",
   "id": "c9377f83-ae13-4730-9f62-9ee2f4ec5783",
   "metadata": {},
   "source": [
    "# beide Flüsse boxplots"
   ]
  },
  {
   "cell_type": "code",
   "execution_count": 7,
   "id": "3263aaf1-10d9-48b3-9ae7-2a2de208ad78",
   "metadata": {},
   "outputs": [
    {
     "name": "stderr",
     "output_type": "stream",
     "text": [
      "Warning message:\n",
      "\"\u001b[1m\u001b[22mUsing `size` aesthetic for lines was deprecated in ggplot2 3.4.0.\n",
      "\u001b[36mℹ\u001b[39m Please use `linewidth` instead.\"\n",
      "Warning message:\n",
      "\"\u001b[1m\u001b[22mRemoved 32 rows containing non-finite outside the scale range (`stat_boxplot()`).\"\n",
      "Warning message:\n",
      "\"\u001b[1m\u001b[22mRemoved 32 rows containing non-finite outside the scale range (`stat_boxplot()`).\"\n"
     ]
    },
    {
     "name": "stdout",
     "output_type": "stream",
     "text": [
      "✅ Boxplot gespeichert unter:\n",
      " C:/Users/sophia/Dropbox/MASTER/Master_Data_Table/FINAL/Ergebnisse_Tabelle/Boxplot_Groups.png"
     ]
    },
    {
     "data": {
      "image/png": "[encoded data removed]",
      "text/plain": [
       "plot without title"
      ]
     },
     "metadata": {
      "image/png": {
       "height": 420,
       "width": 420
      }
     },
     "output_type": "display_data"
    }
   ],
   "source": [
    "# 📦 Pakete laden\n",
    "library(readxl)\n",
    "library(dplyr)\n",
    "library(tidyr)\n",
    "library(ggplot2)\n",
    "\n",
    "# 📁 Datei einlesen\n",
    "file_path <- \"C:/Users/sophia/Dropbox/MASTER/Master_Data_Table/FINAL/MASTER_DATA_short_Grouping.xlsx\"\n",
    "df <- read_excel(file_path)\n",
    "\n",
    "# 📊 Daten vorbereiten\n",
    "df_subset <- df %>%\n",
    "  select(river_name, group_nr, average_DOC_sample, BDOC_pct, CO2_Flux) %>%\n",
    "  mutate(Group = case_when(\n",
    "    river_name == \"Vestari_Joekulsa\" ~ \"Vestari-Jökulsá\",\n",
    "    river_name == \"Virkisa\" & group_nr == 1 ~ \"before the rain\",\n",
    "    river_name == \"Virkisa\" & group_nr > 1 ~ \"after the rain\",\n",
    "    river_name == \"Virkisa\" ~ \"Virkisá – all\"\n",
    "  ))\n",
    "\n",
    "# 📊 Nur ausgewählte Gruppen\n",
    "df_long <- df_subset %>%\n",
    "  filter(Group %in% c(\"Vestari-Jökulsá\", \"before the rain\", \"after the rain\")) %>%\n",
    "  pivot_longer(cols = c(average_DOC_sample, BDOC_pct, CO2_Flux),\n",
    "               names_to = \"Variable\", values_to = \"Value\")\n",
    "\n",
    "# 🎨 Farben festlegen\n",
    "farben <- c(\n",
    "  \"Vestari-Jökulsá\" = \"#B2182B\",\n",
    "  \"before the rain\" = \"#006400\",\n",
    "  \"after the rain\" = \"#66A61E\"\n",
    ")\n",
    "\n",
    "# 🏷️ Reihenfolge festlegen\n",
    "df_long$Group <- factor(df_long$Group, levels = c(\"Vestari-Jökulsá\", \"before the rain\", \"after the rain\"))\n",
    "\n",
    "# 🏷️ Labels für Facets\n",
    "variable_labels <- c(\n",
    "  average_DOC_sample = \"DOC~(mg~L^{-1})\",\n",
    "  BDOC_pct = \"BDOC~('%')\",\n",
    "  CO2_Flux = \"CO[2]~Flux~(mg~m^{-2}~d^{-1})\"\n",
    ")\n",
    "\n",
    "# 📊 Plot erstellen\n",
    "p <- ggplot(df_long, aes(x = Group, y = Value, fill = Group)) +\n",
    "  geom_boxplot() +\n",
    "  geom_hline(yintercept = 0, linetype = \"solid\", color = \"black\", size = 0.5) + # <-- Linie bei 0\n",
    "  facet_wrap(~Variable, scales = \"free_y\", nrow = 1, \n",
    "             labeller = as_labeller(variable_labels, default = label_parsed)) +\n",
    "  scale_fill_manual(values = farben) +\n",
    "  theme_minimal(base_size = 14) +\n",
    "  theme(\n",
    "    axis.text.x = element_text(angle = 20, hjust = 1),\n",
    "    legend.position = \"none\",\n",
    "    strip.text = element_text(face = \"bold\", size = 12),\n",
    "    plot.title = element_text(hjust = 0.5, face = \"bold\"),\n",
    "    plot.margin = margin(2, 2, 2, 2, \"mm\")\n",
    "  ) +\n",
    "  labs(\n",
    "    x = NULL, y = NULL,\n",
    "    title = \"Distributions of DOC, BDOC and CO₂ Flux by Group\"\n",
    "  )\n",
    "\n",
    "# 💾 Speicherpfad\n",
    "output_path <- \"C:/Users/sophia/Dropbox/MASTER/Master_Data_Table/FINAL/Ergebnisse_Tabelle/Boxplot_Groups.png\"\n",
    "\n",
    "# 💾 Plot speichern\n",
    "ggsave(filename = output_path,\n",
    "       plot = p,\n",
    "       width = 210,   # mm\n",
    "       height = 80,   # mm\n",
    "       units = \"mm\",\n",
    "       dpi = 300,\n",
    "       bg = \"white\",\n",
    "       limitsize = FALSE)\n",
    "\n",
    "# ✅ Plot in Jupyter anzeigen\n",
    "print(p)\n",
    "\n",
    "# ✅ Hinweis ausgeben\n",
    "cat(\"✅ Boxplot gespeichert unter:\\n\", output_path)\n"
   ]
  },
  {
   "cell_type": "code",
   "execution_count": 8,
   "id": "a6c83ac5-af0c-44c3-b40d-b79c521e5f3e",
   "metadata": {},
   "outputs": [
    {
     "name": "stderr",
     "output_type": "stream",
     "text": [
      "Warning message:\n",
      "\"\u001b[1m\u001b[22mRemoved 32 rows containing non-finite outside the scale range (`stat_boxplot()`).\"\n",
      "Warning message:\n",
      "\"\u001b[1m\u001b[22mRemoved 32 rows containing non-finite outside the scale range (`stat_boxplot()`).\"\n"
     ]
    },
    {
     "name": "stdout",
     "output_type": "stream",
     "text": [
      "✅ Boxplot gespeichert unter:\n",
      " C:/Users/sophia/Dropbox/MASTER/Master_Data_Table/FINAL/Ergebnisse_Tabelle/Boxplot_Groups.png"
     ]
    },
    {
     "data": {
      "image/png": "[encoded data removed]",
      "text/plain": [
       "plot without title"
      ]
     },
     "metadata": {
      "image/png": {
       "height": 420,
       "width": 420
      }
     },
     "output_type": "display_data"
    }
   ],
   "source": [
    "# 📦 Pakete laden\n",
    "library(readxl)\n",
    "library(dplyr)\n",
    "library(tidyr)\n",
    "library(ggplot2)\n",
    "\n",
    "# 📁 Datei einlesen\n",
    "file_path <- \"C:/Users/sophia/Dropbox/MASTER/Master_Data_Table/FINAL/MASTER_DATA_short_Grouping.xlsx\"\n",
    "df <- read_excel(file_path)\n",
    "\n",
    "# 📊 Daten vorbereiten\n",
    "df_subset <- df %>%\n",
    "  select(river_name, group_nr, average_DOC_sample, BDOC_pct, CO2_Flux) %>%\n",
    "  mutate(Group = case_when(\n",
    "    river_name == \"Vestari_Joekulsa\" ~ \"Vestari-Jökulsá\",\n",
    "    river_name == \"Virkisa\" & group_nr == 1 ~ \"Virkisá before the rain\",\n",
    "    river_name == \"Virkisa\" & group_nr > 1 ~ \"Virkisá after the rain\",\n",
    "    river_name == \"Virkisa\" ~ \"Virkisá – all\"\n",
    "  ))\n",
    "\n",
    "# 📊 Nur ausgewählte Gruppen\n",
    "df_long <- df_subset %>%\n",
    "  filter(Group %in% c(\"Vestari-Jökulsá\", \"Virkisá before the rain\", \"Virkisá after the rain\")) %>%\n",
    "  pivot_longer(cols = c(average_DOC_sample, BDOC_pct, CO2_Flux),\n",
    "               names_to = \"Variable\", values_to = \"Value\")\n",
    "\n",
    "# 🎨 Farben festlegen\n",
    "farben <- c(\n",
    "  \"Vestari-Jökulsá\" = \"#B2182B\",\n",
    "  \"Virkisá before the rain\" = \"#006400\",\n",
    "  \"Virkisá after the rain\" = \"#66A61E\"\n",
    ")\n",
    "\n",
    "# 🏷️ Reihenfolge festlegen\n",
    "df_long$Group <- factor(df_long$Group, levels = c(\"Vestari-Jökulsá\", \"Virkisá before the rain\", \"Virkisá after the rain\"))\n",
    "\n",
    "# 🏷️ Labels für Facets\n",
    "variable_labels <- c(\n",
    "  average_DOC_sample = \"DOC~(mg~L^{-1})\",\n",
    "  BDOC_pct = \"BDOC~('%')\",\n",
    "  CO2_Flux = \"CO[2]~Flux~(mg~m^{-2}~d^{-1})\"\n",
    ")\n",
    "\n",
    "# 📊 Plot erstellen\n",
    "p <- ggplot(df_long, aes(x = Group, y = Value, fill = Group)) +\n",
    "  geom_boxplot() +\n",
    "  geom_hline(yintercept = 0, linetype = \"solid\", color = \"black\", size = 0.5) +\n",
    "  facet_wrap(~Variable, scales = \"free_y\", nrow = 1, \n",
    "             labeller = as_labeller(variable_labels, default = label_parsed)) +\n",
    "  scale_fill_manual(values = farben) +\n",
    "  theme_minimal(base_size = 14) +\n",
    "  theme(\n",
    "    axis.text.x = element_text(angle = 20, hjust = 1),\n",
    "    legend.position = \"none\",\n",
    "    strip.text = element_text(face = \"bold\", size = 12),\n",
    "    plot.title = element_text(hjust = 0.5, face = \"bold\"),\n",
    "    plot.margin = margin(2, 12, 2, 12, \"mm\") # linker/rechter Rand größer\n",
    "  ) +\n",
    "  labs(\n",
    "    x = NULL, y = NULL,\n",
    "    title = \"Distributions of DOC, BDOC and CO₂ Flux by Group\"\n",
    "  )\n",
    "\n",
    "# 💾 Speicherpfad\n",
    "output_path <- \"C:/Users/sophia/Dropbox/MASTER/Master_Data_Table/FINAL/Ergebnisse_Tabelle/Boxplot_Groups.png\"\n",
    "\n",
    "# 💾 Plot speichern\n",
    "ggsave(filename = output_path,\n",
    "       plot = p,\n",
    "       width = 210,   # mm\n",
    "       height = 80,   # mm\n",
    "       units = \"mm\",\n",
    "       dpi = 300,\n",
    "       bg = \"white\",\n",
    "       limitsize = FALSE)\n",
    "\n",
    "# ✅ Plot in Jupyter anzeigen\n",
    "print(p)\n",
    "\n",
    "# ✅ Hinweis ausgeben\n",
    "cat(\"✅ Boxplot gespeichert unter:\\n\", output_path)\n"
   ]
  },
  {
   "cell_type": "markdown",
   "id": "0208ae09-d7f8-44ad-b2f6-624dfaa6f2d4",
   "metadata": {},
   "source": [
    "# violinplots\n"
   ]
  },
  {
   "cell_type": "code",
   "execution_count": 9,
   "id": "6a0f084b-5746-47eb-99be-a1f6487bc7d0",
   "metadata": {},
   "outputs": [
    {
     "name": "stderr",
     "output_type": "stream",
     "text": [
      "Warning message:\n",
      "\"\u001b[1m\u001b[22mRemoved 32 rows containing non-finite outside the scale range (`stat_ydensity()`).\"\n",
      "Warning message:\n",
      "\"\u001b[1m\u001b[22mRemoved 32 rows containing non-finite outside the scale range (`stat_boxplot()`).\"\n",
      "Warning message:\n",
      "\"\u001b[1m\u001b[22mRemoved 32 rows containing non-finite outside the scale range (`stat_ydensity()`).\"\n",
      "Warning message:\n",
      "\"\u001b[1m\u001b[22mRemoved 32 rows containing non-finite outside the scale range (`stat_boxplot()`).\"\n"
     ]
    },
    {
     "name": "stdout",
     "output_type": "stream",
     "text": [
      "✅ Violin + Boxplot gespeichert unter:\n",
      " C:/Users/sophia/Dropbox/MASTER/Master_Data_Table/FINAL/Ergebnisse_Tabelle/Violin_Boxplot_Groups.png"
     ]
    },
    {
     "data": {
      "image/png": "[encoded data removed]",
      "text/plain": [
       "plot without title"
      ]
     },
     "metadata": {
      "image/png": {
       "height": 420,
       "width": 420
      }
     },
     "output_type": "display_data"
    }
   ],
   "source": [
    "# 📦 Pakete laden\n",
    "library(readxl)\n",
    "library(dplyr)\n",
    "library(tidyr)\n",
    "library(ggplot2)\n",
    "\n",
    "# 📁 Datei einlesen\n",
    "file_path <- \"C:/Users/sophia/Dropbox/MASTER/Master_Data_Table/FINAL/MASTER_DATA_short_Grouping.xlsx\"\n",
    "df <- read_excel(file_path)\n",
    "\n",
    "# 📊 Daten vorbereiten\n",
    "df_subset <- df %>%\n",
    "  select(river_name, group_nr, average_DOC_sample, BDOC_pct, CO2_Flux) %>%\n",
    "  mutate(Group = case_when(\n",
    "    river_name == \"Vestari_Joekulsa\" ~ \"Vestari-Jökulsá\",\n",
    "    river_name == \"Virkisa\" & group_nr == 1 ~ \"Virkisá before the rain\",\n",
    "    river_name == \"Virkisa\" & group_nr > 1 ~ \"Virkisá after the rain\",\n",
    "    river_name == \"Virkisa\" ~ \"Virkisá – all\"\n",
    "  ))\n",
    "\n",
    "# 📊 Nur ausgewählte Gruppen\n",
    "df_long <- df_subset %>%\n",
    "  filter(Group %in% c(\"Vestari-Jökulsá\", \"Virkisá before the rain\", \"Virkisá after the rain\")) %>%\n",
    "  pivot_longer(cols = c(average_DOC_sample, BDOC_pct, CO2_Flux),\n",
    "               names_to = \"Variable\", values_to = \"Value\")\n",
    "\n",
    "# 🎨 Farben festlegen\n",
    "farben <- c(\n",
    "  \"Vestari-Jökulsá\" = \"#B2182B\",\n",
    "  \"Virkisá before the rain\" = \"#006400\",\n",
    "  \"Virkisá after the rain\" = \"#66A61E\"\n",
    ")\n",
    "\n",
    "# 🏷️ Reihenfolge festlegen\n",
    "df_long$Group <- factor(df_long$Group, levels = c(\"Vestari-Jökulsá\", \"Virkisá before the rain\", \"Virkisá after the rain\"))\n",
    "\n",
    "# 🏷️ Labels für Facets\n",
    "variable_labels <- c(\n",
    "  average_DOC_sample = \"DOC~(mg~L^{-1})\",\n",
    "  BDOC_pct = \"BDOC~('%')\",\n",
    "  CO2_Flux = \"CO[2]~Flux~(mg~m^{-2}~d^{-1})\"\n",
    ")\n",
    "\n",
    "# 📊 Plot erstellen (Violin + Box)\n",
    "p <- ggplot(df_long, aes(x = Group, y = Value, fill = Group)) +\n",
    "  geom_violin(trim = FALSE, alpha = 0.7) +\n",
    "  geom_boxplot(width = 0.1, fill = \"white\", outlier.shape = NA) +\n",
    "  geom_hline(yintercept = 0, linetype = \"solid\", color = \"black\", size = 0.5) +\n",
    "  facet_wrap(~Variable, scales = \"free_y\", nrow = 1, \n",
    "             labeller = as_labeller(variable_labels, default = label_parsed)) +\n",
    "  scale_fill_manual(values = farben) +\n",
    "  theme_minimal(base_size = 14) +\n",
    "  theme(\n",
    "    axis.text.x = element_text(angle = 20, hjust = 1),\n",
    "    legend.position = \"none\",\n",
    "    strip.text = element_text(face = \"bold\", size = 12),\n",
    "    plot.title = element_text(hjust = 0.5, face = \"bold\"),\n",
    "    plot.margin = margin(2, 12, 2, 12, \"mm\")\n",
    "  ) +\n",
    "  labs(\n",
    "    x = NULL, y = NULL,\n",
    "    title = \"Violin & Boxplots of DOC, BDOC and CO₂ Flux by Group\"\n",
    "  )\n",
    "\n",
    "# 💾 Speicherpfad\n",
    "output_path <- \"C:/Users/sophia/Dropbox/MASTER/Master_Data_Table/FINAL/Ergebnisse_Tabelle/Violin_Boxplot_Groups.png\"\n",
    "\n",
    "# 💾 Plot speichern\n",
    "ggsave(filename = output_path,\n",
    "       plot = p,\n",
    "       width = 210,   # mm\n",
    "       height = 80,   # mm\n",
    "       units = \"mm\",\n",
    "       dpi = 300,\n",
    "       bg = \"white\",\n",
    "       limitsize = FALSE)\n",
    "\n",
    "# ✅ Plot in Jupyter anzeigen\n",
    "print(p)\n",
    "\n",
    "# ✅ Hinweis ausgeben\n",
    "cat(\"✅ Violin + Boxplot gespeichert unter:\\n\", output_path)\n"
   ]
  },
  {
   "cell_type": "markdown",
   "id": "7a6014e7-d6fe-4282-8196-aed5dff7538b",
   "metadata": {},
   "source": [
    "#### vergleich"
   ]
  },
  {
   "cell_type": "code",
   "execution_count": 10,
   "id": "49591f75-1c08-4bb8-8c6e-1267cf4f4b9c",
   "metadata": {},
   "outputs": [
    {
     "name": "stderr",
     "output_type": "stream",
     "text": [
      "Warning message:\n",
      "\"\u001b[1m\u001b[22mRemoved 32 rows containing non-finite outside the scale range (`stat_boxplot()`).\"\n",
      "Warning message:\n",
      "\"\u001b[1m\u001b[22mRemoved 32 rows containing non-finite outside the scale range (`stat_ydensity()`).\"\n",
      "Warning message:\n",
      "\"\u001b[1m\u001b[22mRemoved 32 rows containing non-finite outside the scale range (`stat_boxplot()`).\"\n",
      "Warning message:\n",
      "\"\u001b[1m\u001b[22mRemoved 32 rows containing non-finite outside the scale range (`stat_boxplot()`).\"\n",
      "Warning message:\n",
      "\"\u001b[1m\u001b[22mRemoved 32 rows containing non-finite outside the scale range (`stat_ydensity()`).\"\n",
      "Warning message:\n",
      "\"\u001b[1m\u001b[22mRemoved 32 rows containing non-finite outside the scale range (`stat_boxplot()`).\"\n"
     ]
    },
    {
     "name": "stdout",
     "output_type": "stream",
     "text": [
      "✅ Vergleichsplot gespeichert unter:\n",
      " C:/Users/sophia/Dropbox/MASTER/Master_Data_Table/FINAL/Ergebnisse_Tabelle/Comparison_Box_Violin.png"
     ]
    },
    {
     "data": {
      "image/png": "[encoded data removed]",
      "text/plain": [
       "plot without title"
      ]
     },
     "metadata": {
      "image/png": {
       "height": 420,
       "width": 420
      }
     },
     "output_type": "display_data"
    }
   ],
   "source": [
    "# 📦 Pakete laden\n",
    "library(readxl)\n",
    "library(dplyr)\n",
    "library(tidyr)\n",
    "library(ggplot2)\n",
    "library(patchwork)  # Für Kombination der Plots\n",
    "\n",
    "# 📁 Datei einlesen\n",
    "file_path <- \"C:/Users/sophia/Dropbox/MASTER/Master_Data_Table/FINAL/MASTER_DATA_short_Grouping.xlsx\"\n",
    "df <- read_excel(file_path)\n",
    "\n",
    "# 📊 Daten vorbereiten\n",
    "df_subset <- df %>%\n",
    "  select(river_name, group_nr, average_DOC_sample, BDOC_pct, CO2_Flux) %>%\n",
    "  mutate(Group = case_when(\n",
    "    river_name == \"Vestari_Joekulsa\" ~ \"Vestari-Jökulsá\",\n",
    "    river_name == \"Virkisa\" & group_nr == 1 ~ \"Virkisá before the rain\",\n",
    "    river_name == \"Virkisa\" & group_nr > 1 ~ \"Virkisá after the rain\",\n",
    "    river_name == \"Virkisa\" ~ \"Virkisá – all\"\n",
    "  ))\n",
    "\n",
    "# 📊 Nur ausgewählte Gruppen\n",
    "df_long <- df_subset %>%\n",
    "  filter(Group %in% c(\"Vestari-Jökulsá\", \"Virkisá before the rain\", \"Virkisá after the rain\")) %>%\n",
    "  pivot_longer(cols = c(average_DOC_sample, BDOC_pct, CO2_Flux),\n",
    "               names_to = \"Variable\", values_to = \"Value\")\n",
    "\n",
    "# 🎨 Farben festlegen\n",
    "farben <- c(\n",
    "  \"Vestari-Jökulsá\" = \"#B2182B\",\n",
    "  \"Virkisá before the rain\" = \"#006400\",\n",
    "  \"Virkisá after the rain\" = \"#66A61E\"\n",
    ")\n",
    "\n",
    "# 🏷️ Reihenfolge festlegen\n",
    "df_long$Group <- factor(df_long$Group, levels = c(\"Vestari-Jökulsá\", \"Virkisá before the rain\", \"Virkisá after the rain\"))\n",
    "\n",
    "# 🏷️ Labels für Facets\n",
    "variable_labels <- c(\n",
    "  average_DOC_sample = \"DOC~(mg~L^{-1})\",\n",
    "  BDOC_pct = \"BDOC~('%')\",\n",
    "  CO2_Flux = \"CO[2]~Flux~(mg~m^{-2}~d^{-1})\"\n",
    ")\n",
    "\n",
    "# 📊 Nur Boxplot\n",
    "p1 <- ggplot(df_long, aes(x = Group, y = Value, fill = Group)) +\n",
    "  geom_boxplot() +\n",
    "  geom_hline(yintercept = 0, linetype = \"solid\", color = \"black\", size = 0.5) +\n",
    "  facet_wrap(~Variable, scales = \"free_y\", nrow = 1, \n",
    "             labeller = as_labeller(variable_labels, default = label_parsed)) +\n",
    "  scale_fill_manual(values = farben) +\n",
    "  theme_minimal(base_size = 12) +\n",
    "  theme(\n",
    "    axis.text.x = element_text(angle = 20, hjust = 1),\n",
    "    legend.position = \"none\",\n",
    "    strip.text = element_text(face = \"bold\", size = 11),\n",
    "    plot.title = element_text(hjust = 0.5, face = \"bold\"),\n",
    "    plot.margin = margin(2, 12, 2, 12, \"mm\")\n",
    "  ) +\n",
    "  labs(\n",
    "    x = NULL, y = NULL,\n",
    "    title = \"Only Boxplot\"\n",
    "  )\n",
    "\n",
    "# 📊 Violin + Boxplot\n",
    "p2 <- ggplot(df_long, aes(x = Group, y = Value, fill = Group)) +\n",
    "  geom_violin(trim = FALSE, alpha = 0.7) +\n",
    "  geom_boxplot(width = 0.1, fill = \"white\", outlier.shape = NA) +\n",
    "  geom_hline(yintercept = 0, linetype = \"solid\", color = \"black\", size = 0.5) +\n",
    "  facet_wrap(~Variable, scales = \"free_y\", nrow = 1, \n",
    "             labeller = as_labeller(variable_labels, default = label_parsed)) +\n",
    "  scale_fill_manual(values = farben) +\n",
    "  theme_minimal(base_size = 12) +\n",
    "  theme(\n",
    "    axis.text.x = element_text(angle = 20, hjust = 1),\n",
    "    legend.position = \"none\",\n",
    "    strip.text = element_text(face = \"bold\", size = 11),\n",
    "    plot.title = element_text(hjust = 0.5, face = \"bold\"),\n",
    "    plot.margin = margin(2, 12, 2, 12, \"mm\")\n",
    "  ) +\n",
    "  labs(\n",
    "    x = NULL, y = NULL,\n",
    "    title = \"Violin + Boxplot\"\n",
    "  )\n",
    "\n",
    "# 🧩 Kombination mit patchwork\n",
    "combined_plot <- p1 + p2 + plot_layout(ncol = 1)\n",
    "\n",
    "# 💾 Speicherpfad\n",
    "output_path <- \"C:/Users/sophia/Dropbox/MASTER/Master_Data_Table/FINAL/Ergebnisse_Tabelle/Comparison_Box_Violin.png\"\n",
    "\n",
    "# 💾 Plot speichern\n",
    "ggsave(filename = output_path,\n",
    "       plot = combined_plot,\n",
    "       width = 210,   # mm\n",
    "       height = 160,  # mm (mehr Platz, da zwei übereinander)\n",
    "       units = \"mm\",\n",
    "       dpi = 300,\n",
    "       bg = \"white\",\n",
    "       limitsize = FALSE)\n",
    "\n",
    "# ✅ Plot in Jupyter anzeigen\n",
    "print(combined_plot)\n",
    "\n",
    "# ✅ Hinweis ausgeben\n",
    "cat(\"✅ Vergleichsplot gespeichert unter:\\n\", output_path)\n"
   ]
  },
  {
   "cell_type": "code",
   "execution_count": null,
   "id": "6ff83776-eeba-46fd-877a-cec26c94d9cb",
   "metadata": {},
   "outputs": [],
   "source": []
  }
 ],
 "metadata": {
  "kernelspec": {
   "display_name": "R",
   "language": "R",
   "name": "ir"
  },
  "language_info": {
   "codemirror_mode": "r",
   "file_extension": ".r",
   "mimetype": "text/x-r-source",
   "name": "R",
   "pygments_lexer": "r",
   "version": "4.3.3"
  }
 },
 "nbformat": 4,
 "nbformat_minor": 5
}
